{
  "nbformat": 4,
  "nbformat_minor": 0,
  "metadata": {
    "colab": {
      "provenance": []
    },
    "kernelspec": {
      "name": "python3",
      "display_name": "Python 3"
    },
    "language_info": {
      "name": "python"
    }
  },
  "cells": [
    {
      "cell_type": "code",
      "execution_count": 1,
      "metadata": {
        "id": "KMuHGNXP_g0u"
      },
      "outputs": [],
      "source": [
        "import os\n",
        "import pandas as pd\n",
        "import numpy as np\n",
        "\n",
        "import matplotlib. pyplot as plt\n",
        "import matplotlib\n",
        "from sklearn.metrics import mean_squared_error, r2_score\n",
        "import matplotlib. dates as mandates\n",
        "from sklearn import linear_model\n",
        "\n",
        "import tensorflow as tf\n",
        "from tensorflow import keras\n",
        "from  tensorflow.keras.layers import LSTM, Dense, Dropout\n",
        "from tensorflow.keras.models import Sequential\n",
        "from tensorflow.keras import optimizers"
      ]
    },
    {
      "cell_type": "code",
      "source": [
        "df= pd.read_csv(\"/content/NIFTY 50_Data.csv\") "
      ],
      "metadata": {
        "id": "_4vQGu0XAKXN"
      },
      "execution_count": 2,
      "outputs": []
    },
    {
      "cell_type": "code",
      "source": [
        "df['Date'] = pd.to_datetime(df['Date'])"
      ],
      "metadata": {
        "id": "UwiJ-1wsAKVP"
      },
      "execution_count": 3,
      "outputs": []
    },
    {
      "cell_type": "code",
      "source": [
        "df.set_index('Date', inplace=True)"
      ],
      "metadata": {
        "id": "7XslK_QxAKS5"
      },
      "execution_count": 4,
      "outputs": []
    },
    {
      "cell_type": "code",
      "source": [
        "df.sort_index(inplace=True)"
      ],
      "metadata": {
        "id": "X7off1IOAKQX"
      },
      "execution_count": 5,
      "outputs": []
    },
    {
      "cell_type": "code",
      "source": [
        "df.head()"
      ],
      "metadata": {
        "colab": {
          "base_uri": "https://localhost:8080/",
          "height": 237
        },
        "id": "hkir5EYJBQgL",
        "outputId": "a584f1c0-418e-4758-fd9f-7be9a2eb8ef8"
      },
      "execution_count": 6,
      "outputs": [
        {
          "output_type": "execute_result",
          "data": {
            "text/plain": [
              "               Open     High      Low   Close\n",
              "Date                                         \n",
              "2000-01-03  1482.15  1592.90  1482.15  1592.2\n",
              "2000-01-04  1594.40  1641.95  1594.40  1638.7\n",
              "2000-01-05  1634.55  1635.50  1555.05  1595.8\n",
              "2000-01-06  1595.80  1639.00  1595.80  1617.6\n",
              "2000-01-07  1616.60  1628.25  1597.20  1613.3"
            ],
            "text/html": [
              "\n",
              "  <div id=\"df-963f002e-3bfe-4615-b56b-4a12c3f47257\">\n",
              "    <div class=\"colab-df-container\">\n",
              "      <div>\n",
              "<style scoped>\n",
              "    .dataframe tbody tr th:only-of-type {\n",
              "        vertical-align: middle;\n",
              "    }\n",
              "\n",
              "    .dataframe tbody tr th {\n",
              "        vertical-align: top;\n",
              "    }\n",
              "\n",
              "    .dataframe thead th {\n",
              "        text-align: right;\n",
              "    }\n",
              "</style>\n",
              "<table border=\"1\" class=\"dataframe\">\n",
              "  <thead>\n",
              "    <tr style=\"text-align: right;\">\n",
              "      <th></th>\n",
              "      <th>Open</th>\n",
              "      <th>High</th>\n",
              "      <th>Low</th>\n",
              "      <th>Close</th>\n",
              "    </tr>\n",
              "    <tr>\n",
              "      <th>Date</th>\n",
              "      <th></th>\n",
              "      <th></th>\n",
              "      <th></th>\n",
              "      <th></th>\n",
              "    </tr>\n",
              "  </thead>\n",
              "  <tbody>\n",
              "    <tr>\n",
              "      <th>2000-01-03</th>\n",
              "      <td>1482.15</td>\n",
              "      <td>1592.90</td>\n",
              "      <td>1482.15</td>\n",
              "      <td>1592.2</td>\n",
              "    </tr>\n",
              "    <tr>\n",
              "      <th>2000-01-04</th>\n",
              "      <td>1594.40</td>\n",
              "      <td>1641.95</td>\n",
              "      <td>1594.40</td>\n",
              "      <td>1638.7</td>\n",
              "    </tr>\n",
              "    <tr>\n",
              "      <th>2000-01-05</th>\n",
              "      <td>1634.55</td>\n",
              "      <td>1635.50</td>\n",
              "      <td>1555.05</td>\n",
              "      <td>1595.8</td>\n",
              "    </tr>\n",
              "    <tr>\n",
              "      <th>2000-01-06</th>\n",
              "      <td>1595.80</td>\n",
              "      <td>1639.00</td>\n",
              "      <td>1595.80</td>\n",
              "      <td>1617.6</td>\n",
              "    </tr>\n",
              "    <tr>\n",
              "      <th>2000-01-07</th>\n",
              "      <td>1616.60</td>\n",
              "      <td>1628.25</td>\n",
              "      <td>1597.20</td>\n",
              "      <td>1613.3</td>\n",
              "    </tr>\n",
              "  </tbody>\n",
              "</table>\n",
              "</div>\n",
              "      <button class=\"colab-df-convert\" onclick=\"convertToInteractive('df-963f002e-3bfe-4615-b56b-4a12c3f47257')\"\n",
              "              title=\"Convert this dataframe to an interactive table.\"\n",
              "              style=\"display:none;\">\n",
              "        \n",
              "  <svg xmlns=\"http://www.w3.org/2000/svg\" height=\"24px\"viewBox=\"0 0 24 24\"\n",
              "       width=\"24px\">\n",
              "    <path d=\"M0 0h24v24H0V0z\" fill=\"none\"/>\n",
              "    <path d=\"M18.56 5.44l.94 2.06.94-2.06 2.06-.94-2.06-.94-.94-2.06-.94 2.06-2.06.94zm-11 1L8.5 8.5l.94-2.06 2.06-.94-2.06-.94L8.5 2.5l-.94 2.06-2.06.94zm10 10l.94 2.06.94-2.06 2.06-.94-2.06-.94-.94-2.06-.94 2.06-2.06.94z\"/><path d=\"M17.41 7.96l-1.37-1.37c-.4-.4-.92-.59-1.43-.59-.52 0-1.04.2-1.43.59L10.3 9.45l-7.72 7.72c-.78.78-.78 2.05 0 2.83L4 21.41c.39.39.9.59 1.41.59.51 0 1.02-.2 1.41-.59l7.78-7.78 2.81-2.81c.8-.78.8-2.07 0-2.86zM5.41 20L4 18.59l7.72-7.72 1.47 1.35L5.41 20z\"/>\n",
              "  </svg>\n",
              "      </button>\n",
              "      \n",
              "  <style>\n",
              "    .colab-df-container {\n",
              "      display:flex;\n",
              "      flex-wrap:wrap;\n",
              "      gap: 12px;\n",
              "    }\n",
              "\n",
              "    .colab-df-convert {\n",
              "      background-color: #E8F0FE;\n",
              "      border: none;\n",
              "      border-radius: 50%;\n",
              "      cursor: pointer;\n",
              "      display: none;\n",
              "      fill: #1967D2;\n",
              "      height: 32px;\n",
              "      padding: 0 0 0 0;\n",
              "      width: 32px;\n",
              "    }\n",
              "\n",
              "    .colab-df-convert:hover {\n",
              "      background-color: #E2EBFA;\n",
              "      box-shadow: 0px 1px 2px rgba(60, 64, 67, 0.3), 0px 1px 3px 1px rgba(60, 64, 67, 0.15);\n",
              "      fill: #174EA6;\n",
              "    }\n",
              "\n",
              "    [theme=dark] .colab-df-convert {\n",
              "      background-color: #3B4455;\n",
              "      fill: #D2E3FC;\n",
              "    }\n",
              "\n",
              "    [theme=dark] .colab-df-convert:hover {\n",
              "      background-color: #434B5C;\n",
              "      box-shadow: 0px 1px 3px 1px rgba(0, 0, 0, 0.15);\n",
              "      filter: drop-shadow(0px 1px 2px rgba(0, 0, 0, 0.3));\n",
              "      fill: #FFFFFF;\n",
              "    }\n",
              "  </style>\n",
              "\n",
              "      <script>\n",
              "        const buttonEl =\n",
              "          document.querySelector('#df-963f002e-3bfe-4615-b56b-4a12c3f47257 button.colab-df-convert');\n",
              "        buttonEl.style.display =\n",
              "          google.colab.kernel.accessAllowed ? 'block' : 'none';\n",
              "\n",
              "        async function convertToInteractive(key) {\n",
              "          const element = document.querySelector('#df-963f002e-3bfe-4615-b56b-4a12c3f47257');\n",
              "          const dataTable =\n",
              "            await google.colab.kernel.invokeFunction('convertToInteractive',\n",
              "                                                     [key], {});\n",
              "          if (!dataTable) return;\n",
              "\n",
              "          const docLinkHtml = 'Like what you see? Visit the ' +\n",
              "            '<a target=\"_blank\" href=https://colab.research.google.com/notebooks/data_table.ipynb>data table notebook</a>'\n",
              "            + ' to learn more about interactive tables.';\n",
              "          element.innerHTML = '';\n",
              "          dataTable['output_type'] = 'display_data';\n",
              "          await google.colab.output.renderOutput(dataTable, element);\n",
              "          const docLink = document.createElement('div');\n",
              "          docLink.innerHTML = docLinkHtml;\n",
              "          element.appendChild(docLink);\n",
              "        }\n",
              "      </script>\n",
              "    </div>\n",
              "  </div>\n",
              "  "
            ]
          },
          "metadata": {},
          "execution_count": 6
        }
      ]
    },
    {
      "cell_type": "code",
      "source": [
        "x = df[[\"Open\", \"High\", \"Low\"]]\n",
        "y = df[\"Close\"]\n",
        "x = x.to_numpy()\n",
        "y = y.to_numpy()\n",
        "y = y.reshape(-1, 1)"
      ],
      "metadata": {
        "id": "4MtopYiwAKOV"
      },
      "execution_count": 7,
      "outputs": []
    },
    {
      "cell_type": "code",
      "source": [
        "from sklearn.model_selection import train_test_split\n",
        "xtrain, xtest, ytrain, ytest = train_test_split(x, y, test_size=0.1, random_state=7)"
      ],
      "metadata": {
        "id": "s1iOM69oAKL7"
      },
      "execution_count": 8,
      "outputs": []
    },
    {
      "cell_type": "code",
      "source": [
        "model = Sequential()\n",
        "model.add(LSTM(100, return_sequences=True, input_shape= (xtrain.shape[1], 1)))\n",
        "model.add(LSTM(200, return_sequences=False))\n",
        "model.add(Dense(50,activation='relu'))\n",
        "model.add(Dense(40,activation='relu'))\n",
        "model.add(Dense(30,activation='relu'))\n",
        "model.add(Dense(1))\n",
        "model.summary()"
      ],
      "metadata": {
        "colab": {
          "base_uri": "https://localhost:8080/"
        },
        "id": "IVFJXCZvB6Pw",
        "outputId": "957a3e54-71ae-4ad2-e141-603c1fc86483"
      },
      "execution_count": 19,
      "outputs": [
        {
          "output_type": "stream",
          "name": "stdout",
          "text": [
            "Model: \"sequential_3\"\n",
            "_________________________________________________________________\n",
            " Layer (type)                Output Shape              Param #   \n",
            "=================================================================\n",
            " lstm_6 (LSTM)               (None, 3, 100)            40800     \n",
            "                                                                 \n",
            " lstm_7 (LSTM)               (None, 200)               240800    \n",
            "                                                                 \n",
            " dense_8 (Dense)             (None, 50)                10050     \n",
            "                                                                 \n",
            " dense_9 (Dense)             (None, 40)                2040      \n",
            "                                                                 \n",
            " dense_10 (Dense)            (None, 30)                1230      \n",
            "                                                                 \n",
            " dense_11 (Dense)            (None, 1)                 31        \n",
            "                                                                 \n",
            "=================================================================\n",
            "Total params: 294,951\n",
            "Trainable params: 294,951\n",
            "Non-trainable params: 0\n",
            "_________________________________________________________________\n"
          ]
        }
      ]
    },
    {
      "cell_type": "code",
      "source": [
        "model.compile(optimizer='adam', loss='mae')\n"
      ],
      "metadata": {
        "id": "I6no_Y1lCA6h"
      },
      "execution_count": 20,
      "outputs": []
    },
    {
      "cell_type": "code",
      "source": [
        "model.fit(xtrain, ytrain, batch_size=50, epochs=30)"
      ],
      "metadata": {
        "colab": {
          "base_uri": "https://localhost:8080/"
        },
        "id": "VLMSIie6CA3I",
        "outputId": "516f249c-e3c6-4b2a-e72b-187809fea5f7"
      },
      "execution_count": 21,
      "outputs": [
        {
          "output_type": "stream",
          "name": "stdout",
          "text": [
            "Epoch 1/30\n",
            "104/104 [==============================] - 7s 31ms/step - loss: 5888.1001\n",
            "Epoch 2/30\n",
            "104/104 [==============================] - 2s 23ms/step - loss: 3699.6477\n",
            "Epoch 3/30\n",
            "104/104 [==============================] - 2s 21ms/step - loss: 3623.0244\n",
            "Epoch 4/30\n",
            "104/104 [==============================] - 2s 21ms/step - loss: 3625.6072\n",
            "Epoch 5/30\n",
            "104/104 [==============================] - 2s 21ms/step - loss: 3627.1577\n",
            "Epoch 6/30\n",
            "104/104 [==============================] - 3s 25ms/step - loss: 3624.3870\n",
            "Epoch 7/30\n",
            "104/104 [==============================] - 3s 28ms/step - loss: 3627.5042\n",
            "Epoch 8/30\n",
            "104/104 [==============================] - 2s 20ms/step - loss: 3624.4819\n",
            "Epoch 9/30\n",
            "104/104 [==============================] - 2s 21ms/step - loss: 3624.1475\n",
            "Epoch 10/30\n",
            "104/104 [==============================] - 2s 20ms/step - loss: 3625.7546\n",
            "Epoch 11/30\n",
            "104/104 [==============================] - 2s 21ms/step - loss: 3625.7493\n",
            "Epoch 12/30\n",
            "104/104 [==============================] - 3s 32ms/step - loss: 3622.5811\n",
            "Epoch 13/30\n",
            "104/104 [==============================] - 2s 20ms/step - loss: 3624.3225\n",
            "Epoch 14/30\n",
            "104/104 [==============================] - 2s 20ms/step - loss: 3624.6841\n",
            "Epoch 15/30\n",
            "104/104 [==============================] - 2s 20ms/step - loss: 3624.4443\n",
            "Epoch 16/30\n",
            "104/104 [==============================] - 2s 20ms/step - loss: 3624.8516\n",
            "Epoch 17/30\n",
            "104/104 [==============================] - 3s 30ms/step - loss: 3624.5098\n",
            "Epoch 18/30\n",
            "104/104 [==============================] - 2s 21ms/step - loss: 3627.7441\n",
            "Epoch 19/30\n",
            "104/104 [==============================] - 2s 20ms/step - loss: 3623.0544\n",
            "Epoch 20/30\n",
            "104/104 [==============================] - 2s 20ms/step - loss: 3623.5493\n",
            "Epoch 21/30\n",
            "104/104 [==============================] - 2s 20ms/step - loss: 3628.1057\n",
            "Epoch 22/30\n",
            "104/104 [==============================] - 2s 22ms/step - loss: 3625.9143\n",
            "Epoch 23/30\n",
            "104/104 [==============================] - 4s 37ms/step - loss: 3624.1096\n",
            "Epoch 24/30\n",
            "104/104 [==============================] - 2s 20ms/step - loss: 3625.2693\n",
            "Epoch 25/30\n",
            "104/104 [==============================] - 2s 20ms/step - loss: 3624.1062\n",
            "Epoch 26/30\n",
            "104/104 [==============================] - 2s 20ms/step - loss: 3626.4839\n",
            "Epoch 27/30\n",
            "104/104 [==============================] - 2s 20ms/step - loss: 3625.2322\n",
            "Epoch 28/30\n",
            "104/104 [==============================] - 3s 32ms/step - loss: 3623.8523\n",
            "Epoch 29/30\n",
            "104/104 [==============================] - 2s 20ms/step - loss: 3625.0154\n",
            "Epoch 30/30\n",
            "104/104 [==============================] - 2s 20ms/step - loss: 3627.3730\n"
          ]
        },
        {
          "output_type": "execute_result",
          "data": {
            "text/plain": [
              "<keras.callbacks.History at 0x7f87c8fd6220>"
            ]
          },
          "metadata": {},
          "execution_count": 21
        }
      ]
    }
  ]
}