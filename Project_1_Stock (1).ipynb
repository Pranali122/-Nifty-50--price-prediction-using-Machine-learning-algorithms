{
  "nbformat": 4,
  "nbformat_minor": 0,
  "metadata": {
    "colab": {
      "provenance": []
    },
    "kernelspec": {
      "name": "python3",
      "display_name": "Python 3"
    },
    "language_info": {
      "name": "python"
    },
    "accelerator": "GPU",
    "gpuClass": "standard"
  },
  "cells": [
    {
      "cell_type": "markdown",
      "source": [
        "#Importing Libraries"
      ],
      "metadata": {
        "id": "wgr2qhsUtRnG"
      }
    },
    {
      "cell_type": "code",
      "source": [
        "import os\n",
        "import pandas as pd\n",
        "import numpy as np\n",
        "\n",
        "import matplotlib. pyplot as plt\n",
        "import matplotlib\n",
        "from sklearn.metrics import mean_squared_error, r2_score\n",
        "import matplotlib. dates as mandates\n",
        "from sklearn import linear_model\n",
        "\n",
        "import tensorflow as tf\n",
        "from tensorflow import keras\n",
        "from  tensorflow.keras.layers import LSTM, Dense, Dropout\n",
        "from tensorflow.keras.models import Sequential\n",
        "from tensorflow.keras import optimizers"
      ],
      "metadata": {
        "id": "TjT15i01tTVr"
      },
      "execution_count": null,
      "outputs": []
    },
    {
      "cell_type": "code",
      "source": [
        "df= pd.read_csv(\"/content/NIFTY 50_Data.csv\") "
      ],
      "metadata": {
        "id": "uq0WLLTotiNK"
      },
      "execution_count": null,
      "outputs": []
    },
    {
      "cell_type": "code",
      "source": [
        "df.shape"
      ],
      "metadata": {
        "colab": {
          "base_uri": "https://localhost:8080/"
        },
        "id": "LRqSa0YKtjgO",
        "outputId": "f0be5b3c-7cad-4b16-9fdd-821046f2841a"
      },
      "execution_count": null,
      "outputs": [
        {
          "output_type": "execute_result",
          "data": {
            "text/plain": [
              "(5761, 5)"
            ]
          },
          "metadata": {},
          "execution_count": 3
        }
      ]
    },
    {
      "cell_type": "code",
      "source": [
        "df.info()"
      ],
      "metadata": {
        "colab": {
          "base_uri": "https://localhost:8080/"
        },
        "id": "_HnUlRXwtjdr",
        "outputId": "25f79ff9-256a-4470-fef3-ed41a72e901e"
      },
      "execution_count": null,
      "outputs": [
        {
          "output_type": "stream",
          "name": "stdout",
          "text": [
            "<class 'pandas.core.frame.DataFrame'>\n",
            "RangeIndex: 5761 entries, 0 to 5760\n",
            "Data columns (total 5 columns):\n",
            " #   Column  Non-Null Count  Dtype  \n",
            "---  ------  --------------  -----  \n",
            " 0   Date    5761 non-null   object \n",
            " 1   Open    5761 non-null   float64\n",
            " 2   High    5761 non-null   float64\n",
            " 3   Low     5761 non-null   float64\n",
            " 4   Close   5761 non-null   float64\n",
            "dtypes: float64(4), object(1)\n",
            "memory usage: 225.2+ KB\n"
          ]
        }
      ]
    },
    {
      "cell_type": "markdown",
      "source": [
        "#Converting date column from object to 'Date' datatype\""
      ],
      "metadata": {
        "id": "QAmsovcht57F"
      }
    },
    {
      "cell_type": "code",
      "source": [
        "df['Date'] = pd.to_datetime(df['Date'])"
      ],
      "metadata": {
        "id": "1yAKMAKytjbC"
      },
      "execution_count": null,
      "outputs": []
    },
    {
      "cell_type": "code",
      "source": [
        "df.info()"
      ],
      "metadata": {
        "colab": {
          "base_uri": "https://localhost:8080/"
        },
        "id": "G940rRJvt86Q",
        "outputId": "70ff374e-5156-4e68-e77e-433fbc82504c"
      },
      "execution_count": null,
      "outputs": [
        {
          "output_type": "stream",
          "name": "stdout",
          "text": [
            "<class 'pandas.core.frame.DataFrame'>\n",
            "RangeIndex: 5761 entries, 0 to 5760\n",
            "Data columns (total 5 columns):\n",
            " #   Column  Non-Null Count  Dtype         \n",
            "---  ------  --------------  -----         \n",
            " 0   Date    5761 non-null   datetime64[ns]\n",
            " 1   Open    5761 non-null   float64       \n",
            " 2   High    5761 non-null   float64       \n",
            " 3   Low     5761 non-null   float64       \n",
            " 4   Close   5761 non-null   float64       \n",
            "dtypes: datetime64[ns](1), float64(4)\n",
            "memory usage: 225.2 KB\n"
          ]
        }
      ]
    },
    {
      "cell_type": "code",
      "source": [
        "df.head()"
      ],
      "metadata": {
        "colab": {
          "base_uri": "https://localhost:8080/",
          "height": 206
        },
        "id": "SEEuR6mqt831",
        "outputId": "082deb36-c781-4c4f-9c12-32cc49564143"
      },
      "execution_count": null,
      "outputs": [
        {
          "output_type": "execute_result",
          "data": {
            "text/plain": [
              "        Date      Open      High       Low     Close\n",
              "0 2023-02-24  17591.35  17599.75  17421.80  17465.80\n",
              "1 2023-02-23  17574.65  17620.05  17455.40  17511.25\n",
              "2 2023-02-22  17755.35  17772.50  17529.45  17554.30\n",
              "3 2023-02-21  17905.80  17924.90  17800.30  17826.70\n",
              "4 2023-02-20  17965.55  18004.35  17818.40  17844.60"
            ],
            "text/html": [
              "\n",
              "  <div id=\"df-25e758ca-8a83-4c5a-a0c4-5f485cd4b067\">\n",
              "    <div class=\"colab-df-container\">\n",
              "      <div>\n",
              "<style scoped>\n",
              "    .dataframe tbody tr th:only-of-type {\n",
              "        vertical-align: middle;\n",
              "    }\n",
              "\n",
              "    .dataframe tbody tr th {\n",
              "        vertical-align: top;\n",
              "    }\n",
              "\n",
              "    .dataframe thead th {\n",
              "        text-align: right;\n",
              "    }\n",
              "</style>\n",
              "<table border=\"1\" class=\"dataframe\">\n",
              "  <thead>\n",
              "    <tr style=\"text-align: right;\">\n",
              "      <th></th>\n",
              "      <th>Date</th>\n",
              "      <th>Open</th>\n",
              "      <th>High</th>\n",
              "      <th>Low</th>\n",
              "      <th>Close</th>\n",
              "    </tr>\n",
              "  </thead>\n",
              "  <tbody>\n",
              "    <tr>\n",
              "      <th>0</th>\n",
              "      <td>2023-02-24</td>\n",
              "      <td>17591.35</td>\n",
              "      <td>17599.75</td>\n",
              "      <td>17421.80</td>\n",
              "      <td>17465.80</td>\n",
              "    </tr>\n",
              "    <tr>\n",
              "      <th>1</th>\n",
              "      <td>2023-02-23</td>\n",
              "      <td>17574.65</td>\n",
              "      <td>17620.05</td>\n",
              "      <td>17455.40</td>\n",
              "      <td>17511.25</td>\n",
              "    </tr>\n",
              "    <tr>\n",
              "      <th>2</th>\n",
              "      <td>2023-02-22</td>\n",
              "      <td>17755.35</td>\n",
              "      <td>17772.50</td>\n",
              "      <td>17529.45</td>\n",
              "      <td>17554.30</td>\n",
              "    </tr>\n",
              "    <tr>\n",
              "      <th>3</th>\n",
              "      <td>2023-02-21</td>\n",
              "      <td>17905.80</td>\n",
              "      <td>17924.90</td>\n",
              "      <td>17800.30</td>\n",
              "      <td>17826.70</td>\n",
              "    </tr>\n",
              "    <tr>\n",
              "      <th>4</th>\n",
              "      <td>2023-02-20</td>\n",
              "      <td>17965.55</td>\n",
              "      <td>18004.35</td>\n",
              "      <td>17818.40</td>\n",
              "      <td>17844.60</td>\n",
              "    </tr>\n",
              "  </tbody>\n",
              "</table>\n",
              "</div>\n",
              "      <button class=\"colab-df-convert\" onclick=\"convertToInteractive('df-25e758ca-8a83-4c5a-a0c4-5f485cd4b067')\"\n",
              "              title=\"Convert this dataframe to an interactive table.\"\n",
              "              style=\"display:none;\">\n",
              "        \n",
              "  <svg xmlns=\"http://www.w3.org/2000/svg\" height=\"24px\"viewBox=\"0 0 24 24\"\n",
              "       width=\"24px\">\n",
              "    <path d=\"M0 0h24v24H0V0z\" fill=\"none\"/>\n",
              "    <path d=\"M18.56 5.44l.94 2.06.94-2.06 2.06-.94-2.06-.94-.94-2.06-.94 2.06-2.06.94zm-11 1L8.5 8.5l.94-2.06 2.06-.94-2.06-.94L8.5 2.5l-.94 2.06-2.06.94zm10 10l.94 2.06.94-2.06 2.06-.94-2.06-.94-.94-2.06-.94 2.06-2.06.94z\"/><path d=\"M17.41 7.96l-1.37-1.37c-.4-.4-.92-.59-1.43-.59-.52 0-1.04.2-1.43.59L10.3 9.45l-7.72 7.72c-.78.78-.78 2.05 0 2.83L4 21.41c.39.39.9.59 1.41.59.51 0 1.02-.2 1.41-.59l7.78-7.78 2.81-2.81c.8-.78.8-2.07 0-2.86zM5.41 20L4 18.59l7.72-7.72 1.47 1.35L5.41 20z\"/>\n",
              "  </svg>\n",
              "      </button>\n",
              "      \n",
              "  <style>\n",
              "    .colab-df-container {\n",
              "      display:flex;\n",
              "      flex-wrap:wrap;\n",
              "      gap: 12px;\n",
              "    }\n",
              "\n",
              "    .colab-df-convert {\n",
              "      background-color: #E8F0FE;\n",
              "      border: none;\n",
              "      border-radius: 50%;\n",
              "      cursor: pointer;\n",
              "      display: none;\n",
              "      fill: #1967D2;\n",
              "      height: 32px;\n",
              "      padding: 0 0 0 0;\n",
              "      width: 32px;\n",
              "    }\n",
              "\n",
              "    .colab-df-convert:hover {\n",
              "      background-color: #E2EBFA;\n",
              "      box-shadow: 0px 1px 2px rgba(60, 64, 67, 0.3), 0px 1px 3px 1px rgba(60, 64, 67, 0.15);\n",
              "      fill: #174EA6;\n",
              "    }\n",
              "\n",
              "    [theme=dark] .colab-df-convert {\n",
              "      background-color: #3B4455;\n",
              "      fill: #D2E3FC;\n",
              "    }\n",
              "\n",
              "    [theme=dark] .colab-df-convert:hover {\n",
              "      background-color: #434B5C;\n",
              "      box-shadow: 0px 1px 3px 1px rgba(0, 0, 0, 0.15);\n",
              "      filter: drop-shadow(0px 1px 2px rgba(0, 0, 0, 0.3));\n",
              "      fill: #FFFFFF;\n",
              "    }\n",
              "  </style>\n",
              "\n",
              "      <script>\n",
              "        const buttonEl =\n",
              "          document.querySelector('#df-25e758ca-8a83-4c5a-a0c4-5f485cd4b067 button.colab-df-convert');\n",
              "        buttonEl.style.display =\n",
              "          google.colab.kernel.accessAllowed ? 'block' : 'none';\n",
              "\n",
              "        async function convertToInteractive(key) {\n",
              "          const element = document.querySelector('#df-25e758ca-8a83-4c5a-a0c4-5f485cd4b067');\n",
              "          const dataTable =\n",
              "            await google.colab.kernel.invokeFunction('convertToInteractive',\n",
              "                                                     [key], {});\n",
              "          if (!dataTable) return;\n",
              "\n",
              "          const docLinkHtml = 'Like what you see? Visit the ' +\n",
              "            '<a target=\"_blank\" href=https://colab.research.google.com/notebooks/data_table.ipynb>data table notebook</a>'\n",
              "            + ' to learn more about interactive tables.';\n",
              "          element.innerHTML = '';\n",
              "          dataTable['output_type'] = 'display_data';\n",
              "          await google.colab.output.renderOutput(dataTable, element);\n",
              "          const docLink = document.createElement('div');\n",
              "          docLink.innerHTML = docLinkHtml;\n",
              "          element.appendChild(docLink);\n",
              "        }\n",
              "      </script>\n",
              "    </div>\n",
              "  </div>\n",
              "  "
            ]
          },
          "metadata": {},
          "execution_count": 7
        }
      ]
    },
    {
      "cell_type": "markdown",
      "source": [
        "# Setting Date column as Index column"
      ],
      "metadata": {
        "id": "bdseD2i1uD5l"
      }
    },
    {
      "cell_type": "code",
      "source": [
        "df.set_index('Date', inplace=True)     #inplace true to make changes in original dataframe and not to make a copy"
      ],
      "metadata": {
        "id": "99T5Om0Xt81C"
      },
      "execution_count": null,
      "outputs": []
    },
    {
      "cell_type": "code",
      "source": [
        "df.sort_index(inplace=True)"
      ],
      "metadata": {
        "id": "0dSdRjMIt8wK"
      },
      "execution_count": null,
      "outputs": []
    },
    {
      "cell_type": "code",
      "source": [
        "df.head()"
      ],
      "metadata": {
        "colab": {
          "base_uri": "https://localhost:8080/",
          "height": 238
        },
        "id": "qXvRDZkjuK3C",
        "outputId": "a4d9025e-13b0-4c5c-ce75-93f38656a6a5"
      },
      "execution_count": null,
      "outputs": [
        {
          "output_type": "execute_result",
          "data": {
            "text/plain": [
              "               Open     High      Low   Close\n",
              "Date                                         \n",
              "2000-01-03  1482.15  1592.90  1482.15  1592.2\n",
              "2000-01-04  1594.40  1641.95  1594.40  1638.7\n",
              "2000-01-05  1634.55  1635.50  1555.05  1595.8\n",
              "2000-01-06  1595.80  1639.00  1595.80  1617.6\n",
              "2000-01-07  1616.60  1628.25  1597.20  1613.3"
            ],
            "text/html": [
              "\n",
              "  <div id=\"df-deda5c0b-1553-4006-965b-133604f178be\">\n",
              "    <div class=\"colab-df-container\">\n",
              "      <div>\n",
              "<style scoped>\n",
              "    .dataframe tbody tr th:only-of-type {\n",
              "        vertical-align: middle;\n",
              "    }\n",
              "\n",
              "    .dataframe tbody tr th {\n",
              "        vertical-align: top;\n",
              "    }\n",
              "\n",
              "    .dataframe thead th {\n",
              "        text-align: right;\n",
              "    }\n",
              "</style>\n",
              "<table border=\"1\" class=\"dataframe\">\n",
              "  <thead>\n",
              "    <tr style=\"text-align: right;\">\n",
              "      <th></th>\n",
              "      <th>Open</th>\n",
              "      <th>High</th>\n",
              "      <th>Low</th>\n",
              "      <th>Close</th>\n",
              "    </tr>\n",
              "    <tr>\n",
              "      <th>Date</th>\n",
              "      <th></th>\n",
              "      <th></th>\n",
              "      <th></th>\n",
              "      <th></th>\n",
              "    </tr>\n",
              "  </thead>\n",
              "  <tbody>\n",
              "    <tr>\n",
              "      <th>2000-01-03</th>\n",
              "      <td>1482.15</td>\n",
              "      <td>1592.90</td>\n",
              "      <td>1482.15</td>\n",
              "      <td>1592.2</td>\n",
              "    </tr>\n",
              "    <tr>\n",
              "      <th>2000-01-04</th>\n",
              "      <td>1594.40</td>\n",
              "      <td>1641.95</td>\n",
              "      <td>1594.40</td>\n",
              "      <td>1638.7</td>\n",
              "    </tr>\n",
              "    <tr>\n",
              "      <th>2000-01-05</th>\n",
              "      <td>1634.55</td>\n",
              "      <td>1635.50</td>\n",
              "      <td>1555.05</td>\n",
              "      <td>1595.8</td>\n",
              "    </tr>\n",
              "    <tr>\n",
              "      <th>2000-01-06</th>\n",
              "      <td>1595.80</td>\n",
              "      <td>1639.00</td>\n",
              "      <td>1595.80</td>\n",
              "      <td>1617.6</td>\n",
              "    </tr>\n",
              "    <tr>\n",
              "      <th>2000-01-07</th>\n",
              "      <td>1616.60</td>\n",
              "      <td>1628.25</td>\n",
              "      <td>1597.20</td>\n",
              "      <td>1613.3</td>\n",
              "    </tr>\n",
              "  </tbody>\n",
              "</table>\n",
              "</div>\n",
              "      <button class=\"colab-df-convert\" onclick=\"convertToInteractive('df-deda5c0b-1553-4006-965b-133604f178be')\"\n",
              "              title=\"Convert this dataframe to an interactive table.\"\n",
              "              style=\"display:none;\">\n",
              "        \n",
              "  <svg xmlns=\"http://www.w3.org/2000/svg\" height=\"24px\"viewBox=\"0 0 24 24\"\n",
              "       width=\"24px\">\n",
              "    <path d=\"M0 0h24v24H0V0z\" fill=\"none\"/>\n",
              "    <path d=\"M18.56 5.44l.94 2.06.94-2.06 2.06-.94-2.06-.94-.94-2.06-.94 2.06-2.06.94zm-11 1L8.5 8.5l.94-2.06 2.06-.94-2.06-.94L8.5 2.5l-.94 2.06-2.06.94zm10 10l.94 2.06.94-2.06 2.06-.94-2.06-.94-.94-2.06-.94 2.06-2.06.94z\"/><path d=\"M17.41 7.96l-1.37-1.37c-.4-.4-.92-.59-1.43-.59-.52 0-1.04.2-1.43.59L10.3 9.45l-7.72 7.72c-.78.78-.78 2.05 0 2.83L4 21.41c.39.39.9.59 1.41.59.51 0 1.02-.2 1.41-.59l7.78-7.78 2.81-2.81c.8-.78.8-2.07 0-2.86zM5.41 20L4 18.59l7.72-7.72 1.47 1.35L5.41 20z\"/>\n",
              "  </svg>\n",
              "      </button>\n",
              "      \n",
              "  <style>\n",
              "    .colab-df-container {\n",
              "      display:flex;\n",
              "      flex-wrap:wrap;\n",
              "      gap: 12px;\n",
              "    }\n",
              "\n",
              "    .colab-df-convert {\n",
              "      background-color: #E8F0FE;\n",
              "      border: none;\n",
              "      border-radius: 50%;\n",
              "      cursor: pointer;\n",
              "      display: none;\n",
              "      fill: #1967D2;\n",
              "      height: 32px;\n",
              "      padding: 0 0 0 0;\n",
              "      width: 32px;\n",
              "    }\n",
              "\n",
              "    .colab-df-convert:hover {\n",
              "      background-color: #E2EBFA;\n",
              "      box-shadow: 0px 1px 2px rgba(60, 64, 67, 0.3), 0px 1px 3px 1px rgba(60, 64, 67, 0.15);\n",
              "      fill: #174EA6;\n",
              "    }\n",
              "\n",
              "    [theme=dark] .colab-df-convert {\n",
              "      background-color: #3B4455;\n",
              "      fill: #D2E3FC;\n",
              "    }\n",
              "\n",
              "    [theme=dark] .colab-df-convert:hover {\n",
              "      background-color: #434B5C;\n",
              "      box-shadow: 0px 1px 3px 1px rgba(0, 0, 0, 0.15);\n",
              "      filter: drop-shadow(0px 1px 2px rgba(0, 0, 0, 0.3));\n",
              "      fill: #FFFFFF;\n",
              "    }\n",
              "  </style>\n",
              "\n",
              "      <script>\n",
              "        const buttonEl =\n",
              "          document.querySelector('#df-deda5c0b-1553-4006-965b-133604f178be button.colab-df-convert');\n",
              "        buttonEl.style.display =\n",
              "          google.colab.kernel.accessAllowed ? 'block' : 'none';\n",
              "\n",
              "        async function convertToInteractive(key) {\n",
              "          const element = document.querySelector('#df-deda5c0b-1553-4006-965b-133604f178be');\n",
              "          const dataTable =\n",
              "            await google.colab.kernel.invokeFunction('convertToInteractive',\n",
              "                                                     [key], {});\n",
              "          if (!dataTable) return;\n",
              "\n",
              "          const docLinkHtml = 'Like what you see? Visit the ' +\n",
              "            '<a target=\"_blank\" href=https://colab.research.google.com/notebooks/data_table.ipynb>data table notebook</a>'\n",
              "            + ' to learn more about interactive tables.';\n",
              "          element.innerHTML = '';\n",
              "          dataTable['output_type'] = 'display_data';\n",
              "          await google.colab.output.renderOutput(dataTable, element);\n",
              "          const docLink = document.createElement('div');\n",
              "          docLink.innerHTML = docLinkHtml;\n",
              "          element.appendChild(docLink);\n",
              "        }\n",
              "      </script>\n",
              "    </div>\n",
              "  </div>\n",
              "  "
            ]
          },
          "metadata": {},
          "execution_count": 10
        }
      ]
    },
    {
      "cell_type": "markdown",
      "source": [
        "# Checking for any missing values"
      ],
      "metadata": {
        "id": "SCBGNpd2uOTE"
      }
    },
    {
      "cell_type": "code",
      "source": [
        "df.isnull().sum()"
      ],
      "metadata": {
        "colab": {
          "base_uri": "https://localhost:8080/"
        },
        "id": "6Z60Ae2huK0q",
        "outputId": "33d607cf-86ad-472f-91c4-bc9585472e49"
      },
      "execution_count": null,
      "outputs": [
        {
          "output_type": "execute_result",
          "data": {
            "text/plain": [
              "Open     0\n",
              "High     0\n",
              "Low      0\n",
              "Close    0\n",
              "dtype: int64"
            ]
          },
          "metadata": {},
          "execution_count": 11
        }
      ]
    },
    {
      "cell_type": "code",
      "source": [
        "df.head(10)"
      ],
      "metadata": {
        "colab": {
          "base_uri": "https://localhost:8080/",
          "height": 394
        },
        "id": "tDwQSsUruKyS",
        "outputId": "ae5831dc-0db0-4df9-db3f-0e564d3271c2"
      },
      "execution_count": null,
      "outputs": [
        {
          "output_type": "execute_result",
          "data": {
            "text/plain": [
              "               Open     High      Low   Close\n",
              "Date                                         \n",
              "2000-01-03  1482.15  1592.90  1482.15  1592.2\n",
              "2000-01-04  1594.40  1641.95  1594.40  1638.7\n",
              "2000-01-05  1634.55  1635.50  1555.05  1595.8\n",
              "2000-01-06  1595.80  1639.00  1595.80  1617.6\n",
              "2000-01-07  1616.60  1628.25  1597.20  1613.3\n",
              "2000-01-10  1615.65  1662.10  1614.95  1632.9\n",
              "2000-01-11  1633.25  1639.90  1548.25  1572.5\n",
              "2000-01-12  1572.30  1631.55  1571.70  1624.8\n",
              "2000-01-13  1627.85  1671.15  1613.65  1621.4\n",
              "2000-01-14  1622.15  1627.40  1591.40  1622.7"
            ],
            "text/html": [
              "\n",
              "  <div id=\"df-4a599653-85d9-4885-8269-4a85e1374642\">\n",
              "    <div class=\"colab-df-container\">\n",
              "      <div>\n",
              "<style scoped>\n",
              "    .dataframe tbody tr th:only-of-type {\n",
              "        vertical-align: middle;\n",
              "    }\n",
              "\n",
              "    .dataframe tbody tr th {\n",
              "        vertical-align: top;\n",
              "    }\n",
              "\n",
              "    .dataframe thead th {\n",
              "        text-align: right;\n",
              "    }\n",
              "</style>\n",
              "<table border=\"1\" class=\"dataframe\">\n",
              "  <thead>\n",
              "    <tr style=\"text-align: right;\">\n",
              "      <th></th>\n",
              "      <th>Open</th>\n",
              "      <th>High</th>\n",
              "      <th>Low</th>\n",
              "      <th>Close</th>\n",
              "    </tr>\n",
              "    <tr>\n",
              "      <th>Date</th>\n",
              "      <th></th>\n",
              "      <th></th>\n",
              "      <th></th>\n",
              "      <th></th>\n",
              "    </tr>\n",
              "  </thead>\n",
              "  <tbody>\n",
              "    <tr>\n",
              "      <th>2000-01-03</th>\n",
              "      <td>1482.15</td>\n",
              "      <td>1592.90</td>\n",
              "      <td>1482.15</td>\n",
              "      <td>1592.2</td>\n",
              "    </tr>\n",
              "    <tr>\n",
              "      <th>2000-01-04</th>\n",
              "      <td>1594.40</td>\n",
              "      <td>1641.95</td>\n",
              "      <td>1594.40</td>\n",
              "      <td>1638.7</td>\n",
              "    </tr>\n",
              "    <tr>\n",
              "      <th>2000-01-05</th>\n",
              "      <td>1634.55</td>\n",
              "      <td>1635.50</td>\n",
              "      <td>1555.05</td>\n",
              "      <td>1595.8</td>\n",
              "    </tr>\n",
              "    <tr>\n",
              "      <th>2000-01-06</th>\n",
              "      <td>1595.80</td>\n",
              "      <td>1639.00</td>\n",
              "      <td>1595.80</td>\n",
              "      <td>1617.6</td>\n",
              "    </tr>\n",
              "    <tr>\n",
              "      <th>2000-01-07</th>\n",
              "      <td>1616.60</td>\n",
              "      <td>1628.25</td>\n",
              "      <td>1597.20</td>\n",
              "      <td>1613.3</td>\n",
              "    </tr>\n",
              "    <tr>\n",
              "      <th>2000-01-10</th>\n",
              "      <td>1615.65</td>\n",
              "      <td>1662.10</td>\n",
              "      <td>1614.95</td>\n",
              "      <td>1632.9</td>\n",
              "    </tr>\n",
              "    <tr>\n",
              "      <th>2000-01-11</th>\n",
              "      <td>1633.25</td>\n",
              "      <td>1639.90</td>\n",
              "      <td>1548.25</td>\n",
              "      <td>1572.5</td>\n",
              "    </tr>\n",
              "    <tr>\n",
              "      <th>2000-01-12</th>\n",
              "      <td>1572.30</td>\n",
              "      <td>1631.55</td>\n",
              "      <td>1571.70</td>\n",
              "      <td>1624.8</td>\n",
              "    </tr>\n",
              "    <tr>\n",
              "      <th>2000-01-13</th>\n",
              "      <td>1627.85</td>\n",
              "      <td>1671.15</td>\n",
              "      <td>1613.65</td>\n",
              "      <td>1621.4</td>\n",
              "    </tr>\n",
              "    <tr>\n",
              "      <th>2000-01-14</th>\n",
              "      <td>1622.15</td>\n",
              "      <td>1627.40</td>\n",
              "      <td>1591.40</td>\n",
              "      <td>1622.7</td>\n",
              "    </tr>\n",
              "  </tbody>\n",
              "</table>\n",
              "</div>\n",
              "      <button class=\"colab-df-convert\" onclick=\"convertToInteractive('df-4a599653-85d9-4885-8269-4a85e1374642')\"\n",
              "              title=\"Convert this dataframe to an interactive table.\"\n",
              "              style=\"display:none;\">\n",
              "        \n",
              "  <svg xmlns=\"http://www.w3.org/2000/svg\" height=\"24px\"viewBox=\"0 0 24 24\"\n",
              "       width=\"24px\">\n",
              "    <path d=\"M0 0h24v24H0V0z\" fill=\"none\"/>\n",
              "    <path d=\"M18.56 5.44l.94 2.06.94-2.06 2.06-.94-2.06-.94-.94-2.06-.94 2.06-2.06.94zm-11 1L8.5 8.5l.94-2.06 2.06-.94-2.06-.94L8.5 2.5l-.94 2.06-2.06.94zm10 10l.94 2.06.94-2.06 2.06-.94-2.06-.94-.94-2.06-.94 2.06-2.06.94z\"/><path d=\"M17.41 7.96l-1.37-1.37c-.4-.4-.92-.59-1.43-.59-.52 0-1.04.2-1.43.59L10.3 9.45l-7.72 7.72c-.78.78-.78 2.05 0 2.83L4 21.41c.39.39.9.59 1.41.59.51 0 1.02-.2 1.41-.59l7.78-7.78 2.81-2.81c.8-.78.8-2.07 0-2.86zM5.41 20L4 18.59l7.72-7.72 1.47 1.35L5.41 20z\"/>\n",
              "  </svg>\n",
              "      </button>\n",
              "      \n",
              "  <style>\n",
              "    .colab-df-container {\n",
              "      display:flex;\n",
              "      flex-wrap:wrap;\n",
              "      gap: 12px;\n",
              "    }\n",
              "\n",
              "    .colab-df-convert {\n",
              "      background-color: #E8F0FE;\n",
              "      border: none;\n",
              "      border-radius: 50%;\n",
              "      cursor: pointer;\n",
              "      display: none;\n",
              "      fill: #1967D2;\n",
              "      height: 32px;\n",
              "      padding: 0 0 0 0;\n",
              "      width: 32px;\n",
              "    }\n",
              "\n",
              "    .colab-df-convert:hover {\n",
              "      background-color: #E2EBFA;\n",
              "      box-shadow: 0px 1px 2px rgba(60, 64, 67, 0.3), 0px 1px 3px 1px rgba(60, 64, 67, 0.15);\n",
              "      fill: #174EA6;\n",
              "    }\n",
              "\n",
              "    [theme=dark] .colab-df-convert {\n",
              "      background-color: #3B4455;\n",
              "      fill: #D2E3FC;\n",
              "    }\n",
              "\n",
              "    [theme=dark] .colab-df-convert:hover {\n",
              "      background-color: #434B5C;\n",
              "      box-shadow: 0px 1px 3px 1px rgba(0, 0, 0, 0.15);\n",
              "      filter: drop-shadow(0px 1px 2px rgba(0, 0, 0, 0.3));\n",
              "      fill: #FFFFFF;\n",
              "    }\n",
              "  </style>\n",
              "\n",
              "      <script>\n",
              "        const buttonEl =\n",
              "          document.querySelector('#df-4a599653-85d9-4885-8269-4a85e1374642 button.colab-df-convert');\n",
              "        buttonEl.style.display =\n",
              "          google.colab.kernel.accessAllowed ? 'block' : 'none';\n",
              "\n",
              "        async function convertToInteractive(key) {\n",
              "          const element = document.querySelector('#df-4a599653-85d9-4885-8269-4a85e1374642');\n",
              "          const dataTable =\n",
              "            await google.colab.kernel.invokeFunction('convertToInteractive',\n",
              "                                                     [key], {});\n",
              "          if (!dataTable) return;\n",
              "\n",
              "          const docLinkHtml = 'Like what you see? Visit the ' +\n",
              "            '<a target=\"_blank\" href=https://colab.research.google.com/notebooks/data_table.ipynb>data table notebook</a>'\n",
              "            + ' to learn more about interactive tables.';\n",
              "          element.innerHTML = '';\n",
              "          dataTable['output_type'] = 'display_data';\n",
              "          await google.colab.output.renderOutput(dataTable, element);\n",
              "          const docLink = document.createElement('div');\n",
              "          docLink.innerHTML = docLinkHtml;\n",
              "          element.appendChild(docLink);\n",
              "        }\n",
              "      </script>\n",
              "    </div>\n",
              "  </div>\n",
              "  "
            ]
          },
          "metadata": {},
          "execution_count": 12
        }
      ]
    },
    {
      "cell_type": "markdown",
      "source": [
        "#using asfreq function"
      ],
      "metadata": {
        "id": "HAzK-0UYuWGj"
      }
    },
    {
      "cell_type": "code",
      "source": [
        "df_new = df.asfreq('B')"
      ],
      "metadata": {
        "id": "gAAvHTwvuKvy"
      },
      "execution_count": null,
      "outputs": []
    },
    {
      "cell_type": "code",
      "source": [
        "df.shape,df_new.shape"
      ],
      "metadata": {
        "colab": {
          "base_uri": "https://localhost:8080/"
        },
        "id": "w_u4fO2-uPOl",
        "outputId": "19f37713-89dc-4a66-a94e-d253999bdd41"
      },
      "execution_count": null,
      "outputs": [
        {
          "output_type": "execute_result",
          "data": {
            "text/plain": [
              "((5761, 4), (6040, 4))"
            ]
          },
          "metadata": {},
          "execution_count": 14
        }
      ]
    },
    {
      "cell_type": "code",
      "source": [
        "df_new.isnull().sum()"
      ],
      "metadata": {
        "colab": {
          "base_uri": "https://localhost:8080/"
        },
        "id": "eArtSC-4uPMC",
        "outputId": "55fa9705-ec3f-4f79-d42b-ec44da045e6e"
      },
      "execution_count": null,
      "outputs": [
        {
          "output_type": "execute_result",
          "data": {
            "text/plain": [
              "Open     303\n",
              "High     303\n",
              "Low      303\n",
              "Close    303\n",
              "dtype: int64"
            ]
          },
          "metadata": {},
          "execution_count": 15
        }
      ]
    },
    {
      "cell_type": "markdown",
      "source": [
        "# Filling missing values by frontfill (previous day value)"
      ],
      "metadata": {
        "id": "eQ-qKTPsufk-"
      }
    },
    {
      "cell_type": "code",
      "source": [
        "df_new.fillna(method='ffill', inplace=True)"
      ],
      "metadata": {
        "id": "tiUknuIXuY_b"
      },
      "execution_count": null,
      "outputs": []
    },
    {
      "cell_type": "code",
      "source": [
        "df_new.isnull().sum()"
      ],
      "metadata": {
        "colab": {
          "base_uri": "https://localhost:8080/"
        },
        "id": "e3OJVWPduY6y",
        "outputId": "019b72a7-6d1e-456d-9e72-45ab89243200"
      },
      "execution_count": null,
      "outputs": [
        {
          "output_type": "execute_result",
          "data": {
            "text/plain": [
              "Open     0\n",
              "High     0\n",
              "Low      0\n",
              "Close    0\n",
              "dtype: int64"
            ]
          },
          "metadata": {},
          "execution_count": 17
        }
      ]
    },
    {
      "cell_type": "markdown",
      "source": [
        "#Decomposing the Time series"
      ],
      "metadata": {
        "id": "DMGeaNabumf9"
      }
    },
    {
      "cell_type": "code",
      "source": [
        "from statsmodels.tsa.seasonal import seasonal_decompose\n",
        "from dateutil.parser import parse"
      ],
      "metadata": {
        "id": "K0qPQnEjuY1j"
      },
      "execution_count": null,
      "outputs": []
    },
    {
      "cell_type": "code",
      "source": [
        "# Multiplicative Decomposition \n",
        "result_mul = seasonal_decompose(df_new['Close'], model='multiplicative', extrapolate_trend='freq')"
      ],
      "metadata": {
        "id": "kjPQgYU0un_k"
      },
      "execution_count": null,
      "outputs": []
    },
    {
      "cell_type": "code",
      "source": [
        "# Additive Decomposition\n",
        "result_add = seasonal_decompose(df_new['Close'], model='additive', extrapolate_trend='freq')"
      ],
      "metadata": {
        "id": "gA6BrzCJun9G"
      },
      "execution_count": null,
      "outputs": []
    },
    {
      "cell_type": "code",
      "source": [
        "# Plot\n",
        "plt.rcParams.update({'figure.figsize': (5,5)})\n",
        "result_mul.plot().suptitle('Multiplicative Decompose', fontsize=22)\n",
        "result_add.plot().suptitle('Additive Decompose', fontsize=22)\n",
        "plt.show()\n"
      ],
      "metadata": {
        "colab": {
          "base_uri": "https://localhost:8080/",
          "height": 729
        },
        "id": "bYT-W7bUun6b",
        "outputId": "91ff1f8c-f622-4df5-d4b3-bea7148d51cc"
      },
      "execution_count": null,
      "outputs": [
        {
          "output_type": "display_data",
          "data": {
            "text/plain": [
              "<Figure size 360x360 with 4 Axes>"
            ],
            "image/png": "[encoded data removed]"
          },
          "metadata": {
            "needs_background": "light"
          }
        },
        {
          "output_type": "display_data",
          "data": {
            "text/plain": [
              "<Figure size 360x360 with 4 Axes>"
            ],
            "image/png": "[encoded data removed]"
          },
          "metadata": {
            "needs_background": "light"
          }
        }
      ]
    },
    {
      "cell_type": "markdown",
      "source": [
        "Here multiplicative model does not have repititions in residue so we are selecting Multiplicative model"
      ],
      "metadata": {
        "id": "mD1z29VPu3gj"
      }
    },
    {
      "cell_type": "markdown",
      "source": [
        "#Applying regression  model for time series prediction"
      ],
      "metadata": {
        "id": "K46Mwxg8u4fj"
      }
    },
    {
      "cell_type": "code",
      "source": [
        "ts_data = df_new[['Close']].copy()\n",
        "ts_data.shape"
      ],
      "metadata": {
        "colab": {
          "base_uri": "https://localhost:8080/"
        },
        "id": "cODq4nRsun3t",
        "outputId": "4d122b38-cdc8-4b04-b8b3-22570c119240"
      },
      "execution_count": null,
      "outputs": [
        {
          "output_type": "execute_result",
          "data": {
            "text/plain": [
              "(6040, 1)"
            ]
          },
          "metadata": {},
          "execution_count": 22
        }
      ]
    },
    {
      "cell_type": "code",
      "source": [
        "ts_data['close_t_1'] = ts_data['Close'].shift(1) # shift one value below\n",
        "ts_data['close_t_2'] = ts_data['Close'].shift(2) # shift one value below\n",
        "ts_data['close_t_3'] = ts_data['Close'].shift(3) # shift one value below\n",
        "ts_data['close_t_4'] = ts_data['Close'].shift(4) # shift one value below\n",
        "ts_data['close_t_5'] = ts_data['Close'].shift(5) # shift one value below\n",
        "ts_data['close_t_6'] = ts_data['Close'].shift(6) # shift one value below\n",
        "ts_data['close_t_7'] = ts_data['Close'].shift(7) # shift one value below\n",
        "ts_data['close_t_8'] = ts_data['Close'].shift(8) # shift one value below\n",
        "ts_data['close_t_9'] = ts_data['Close'].shift(9) # shift one value below\n",
        "ts_data['close_t_10'] = ts_data['Close'].shift(10) # shift one value below\n",
        "ts_data['close_t_11'] = ts_data['Close'].shift(11) # shift one value below\n",
        "ts_data['close_t_12'] = ts_data['Close'].shift(12) # shift one value below\n",
        "ts_data['close_t_13'] = ts_data['Close'].shift(13) # shift one value below\n",
        "ts_data['close_t_14'] = ts_data['Close'].shift(14) # shift one value below\n",
        "ts_data['close_t_15'] = ts_data['Close'].shift(15) # shift one value below"
      ],
      "metadata": {
        "id": "DEpXb14Fu7ZC"
      },
      "execution_count": null,
      "outputs": []
    },
    {
      "cell_type": "code",
      "source": [
        "ts_data.head(17)\n"
      ],
      "metadata": {
        "colab": {
          "base_uri": "https://localhost:8080/",
          "height": 973
        },
        "id": "HAGqvdM5u7WJ",
        "outputId": "c1324975-6c54-4639-f6ff-ddf65b850e50"
      },
      "execution_count": null,
      "outputs": [
        {
          "output_type": "execute_result",
          "data": {
            "text/plain": [
              "             Close  close_t_1  close_t_2  close_t_3  close_t_4  close_t_5  \\\n",
              "Date                                                                        \n",
              "2000-01-03  1592.2        NaN        NaN        NaN        NaN        NaN   \n",
              "2000-01-04  1638.7     1592.2        NaN        NaN        NaN        NaN   \n",
              "2000-01-05  1595.8     1638.7     1592.2        NaN        NaN        NaN   \n",
              "2000-01-06  1617.6     1595.8     1638.7     1592.2        NaN        NaN   \n",
              "2000-01-07  1613.3     1617.6     1595.8     1638.7     1592.2        NaN   \n",
              "2000-01-10  1632.9     1613.3     1617.6     1595.8     1638.7     1592.2   \n",
              "2000-01-11  1572.5     1632.9     1613.3     1617.6     1595.8     1638.7   \n",
              "2000-01-12  1624.8     1572.5     1632.9     1613.3     1617.6     1595.8   \n",
              "2000-01-13  1621.4     1624.8     1572.5     1632.9     1613.3     1617.6   \n",
              "2000-01-14  1622.7     1621.4     1624.8     1572.5     1632.9     1613.3   \n",
              "2000-01-17  1611.6     1622.7     1621.4     1624.8     1572.5     1632.9   \n",
              "2000-01-18  1606.7     1611.6     1622.7     1621.4     1624.8     1572.5   \n",
              "2000-01-19  1634.8     1606.7     1611.6     1622.7     1621.4     1624.8   \n",
              "2000-01-20  1601.1     1634.8     1606.7     1611.6     1622.7     1621.4   \n",
              "2000-01-21  1620.6     1601.1     1634.8     1606.7     1611.6     1622.7   \n",
              "2000-01-24  1613.6     1620.6     1601.1     1634.8     1606.7     1611.6   \n",
              "2000-01-25  1586.4     1613.6     1620.6     1601.1     1634.8     1606.7   \n",
              "\n",
              "            close_t_6  close_t_7  close_t_8  close_t_9  close_t_10  \\\n",
              "Date                                                                 \n",
              "2000-01-03        NaN        NaN        NaN        NaN         NaN   \n",
              "2000-01-04        NaN        NaN        NaN        NaN         NaN   \n",
              "2000-01-05        NaN        NaN        NaN        NaN         NaN   \n",
              "2000-01-06        NaN        NaN        NaN        NaN         NaN   \n",
              "2000-01-07        NaN        NaN        NaN        NaN         NaN   \n",
              "2000-01-10        NaN        NaN        NaN        NaN         NaN   \n",
              "2000-01-11     1592.2        NaN        NaN        NaN         NaN   \n",
              "2000-01-12     1638.7     1592.2        NaN        NaN         NaN   \n",
              "2000-01-13     1595.8     1638.7     1592.2        NaN         NaN   \n",
              "2000-01-14     1617.6     1595.8     1638.7     1592.2         NaN   \n",
              "2000-01-17     1613.3     1617.6     1595.8     1638.7      1592.2   \n",
              "2000-01-18     1632.9     1613.3     1617.6     1595.8      1638.7   \n",
              "2000-01-19     1572.5     1632.9     1613.3     1617.6      1595.8   \n",
              "2000-01-20     1624.8     1572.5     1632.9     1613.3      1617.6   \n",
              "2000-01-21     1621.4     1624.8     1572.5     1632.9      1613.3   \n",
              "2000-01-24     1622.7     1621.4     1624.8     1572.5      1632.9   \n",
              "2000-01-25     1611.6     1622.7     1621.4     1624.8      1572.5   \n",
              "\n",
              "            close_t_11  close_t_12  close_t_13  close_t_14  close_t_15  \n",
              "Date                                                                    \n",
              "2000-01-03         NaN         NaN         NaN         NaN         NaN  \n",
              "2000-01-04         NaN         NaN         NaN         NaN         NaN  \n",
              "2000-01-05         NaN         NaN         NaN         NaN         NaN  \n",
              "2000-01-06         NaN         NaN         NaN         NaN         NaN  \n",
              "2000-01-07         NaN         NaN         NaN         NaN         NaN  \n",
              "2000-01-10         NaN         NaN         NaN         NaN         NaN  \n",
              "2000-01-11         NaN         NaN         NaN         NaN         NaN  \n",
              "2000-01-12         NaN         NaN         NaN         NaN         NaN  \n",
              "2000-01-13         NaN         NaN         NaN         NaN         NaN  \n",
              "2000-01-14         NaN         NaN         NaN         NaN         NaN  \n",
              "2000-01-17         NaN         NaN         NaN         NaN         NaN  \n",
              "2000-01-18      1592.2         NaN         NaN         NaN         NaN  \n",
              "2000-01-19      1638.7      1592.2         NaN         NaN         NaN  \n",
              "2000-01-20      1595.8      1638.7      1592.2         NaN         NaN  \n",
              "2000-01-21      1617.6      1595.8      1638.7      1592.2         NaN  \n",
              "2000-01-24      1613.3      1617.6      1595.8      1638.7      1592.2  \n",
              "2000-01-25      1632.9      1613.3      1617.6      1595.8      1638.7  "
            ],
            "text/html": [
              "\n",
              "  <div id=\"df-410fa32f-b94e-45ea-bd53-6f6fe2301c0b\">\n",
              "    <div class=\"colab-df-container\">\n",
              "      <div>\n",
              "<style scoped>\n",
              "    .dataframe tbody tr th:only-of-type {\n",
              "        vertical-align: middle;\n",
              "    }\n",
              "\n",
              "    .dataframe tbody tr th {\n",
              "        vertical-align: top;\n",
              "    }\n",
              "\n",
              "    .dataframe thead th {\n",
              "        text-align: right;\n",
              "    }\n",
              "</style>\n",
              "<table border=\"1\" class=\"dataframe\">\n",
              "  <thead>\n",
              "    <tr style=\"text-align: right;\">\n",
              "      <th></th>\n",
              "      <th>Close</th>\n",
              "      <th>close_t_1</th>\n",
              "      <th>close_t_2</th>\n",
              "      <th>close_t_3</th>\n",
              "      <th>close_t_4</th>\n",
              "      <th>close_t_5</th>\n",
              "      <th>close_t_6</th>\n",
              "      <th>close_t_7</th>\n",
              "      <th>close_t_8</th>\n",
              "      <th>close_t_9</th>\n",
              "      <th>close_t_10</th>\n",
              "      <th>close_t_11</th>\n",
              "      <th>close_t_12</th>\n",
              "      <th>close_t_13</th>\n",
              "      <th>close_t_14</th>\n",
              "      <th>close_t_15</th>\n",
              "    </tr>\n",
              "    <tr>\n",
              "      <th>Date</th>\n",
              "      <th></th>\n",
              "      <th></th>\n",
              "      <th></th>\n",
              "      <th></th>\n",
              "      <th></th>\n",
              "      <th></th>\n",
              "      <th></th>\n",
              "      <th></th>\n",
              "      <th></th>\n",
              "      <th></th>\n",
              "      <th></th>\n",
              "      <th></th>\n",
              "      <th></th>\n",
              "      <th></th>\n",
              "      <th></th>\n",
              "      <th></th>\n",
              "    </tr>\n",
              "  </thead>\n",
              "  <tbody>\n",
              "    <tr>\n",
              "      <th>2000-01-03</th>\n",
              "      <td>1592.2</td>\n",
              "      <td>NaN</td>\n",
              "      <td>NaN</td>\n",
              "      <td>NaN</td>\n",
              "      <td>NaN</td>\n",
              "      <td>NaN</td>\n",
              "      <td>NaN</td>\n",
              "      <td>NaN</td>\n",
              "      <td>NaN</td>\n",
              "      <td>NaN</td>\n",
              "      <td>NaN</td>\n",
              "      <td>NaN</td>\n",
              "      <td>NaN</td>\n",
              "      <td>NaN</td>\n",
              "      <td>NaN</td>\n",
              "      <td>NaN</td>\n",
              "    </tr>\n",
              "    <tr>\n",
              "      <th>2000-01-04</th>\n",
              "      <td>1638.7</td>\n",
              "      <td>1592.2</td>\n",
              "      <td>NaN</td>\n",
              "      <td>NaN</td>\n",
              "      <td>NaN</td>\n",
              "      <td>NaN</td>\n",
              "      <td>NaN</td>\n",
              "      <td>NaN</td>\n",
              "      <td>NaN</td>\n",
              "      <td>NaN</td>\n",
              "      <td>NaN</td>\n",
              "      <td>NaN</td>\n",
              "      <td>NaN</td>\n",
              "      <td>NaN</td>\n",
              "      <td>NaN</td>\n",
              "      <td>NaN</td>\n",
              "    </tr>\n",
              "    <tr>\n",
              "      <th>2000-01-05</th>\n",
              "      <td>1595.8</td>\n",
              "      <td>1638.7</td>\n",
              "      <td>1592.2</td>\n",
              "      <td>NaN</td>\n",
              "      <td>NaN</td>\n",
              "      <td>NaN</td>\n",
              "      <td>NaN</td>\n",
              "      <td>NaN</td>\n",
              "      <td>NaN</td>\n",
              "      <td>NaN</td>\n",
              "      <td>NaN</td>\n",
              "      <td>NaN</td>\n",
              "      <td>NaN</td>\n",
              "      <td>NaN</td>\n",
              "      <td>NaN</td>\n",
              "      <td>NaN</td>\n",
              "    </tr>\n",
              "    <tr>\n",
              "      <th>2000-01-06</th>\n",
              "      <td>1617.6</td>\n",
              "      <td>1595.8</td>\n",
              "      <td>1638.7</td>\n",
              "      <td>1592.2</td>\n",
              "      <td>NaN</td>\n",
              "      <td>NaN</td>\n",
              "      <td>NaN</td>\n",
              "      <td>NaN</td>\n",
              "      <td>NaN</td>\n",
              "      <td>NaN</td>\n",
              "      <td>NaN</td>\n",
              "      <td>NaN</td>\n",
              "      <td>NaN</td>\n",
              "      <td>NaN</td>\n",
              "      <td>NaN</td>\n",
              "      <td>NaN</td>\n",
              "    </tr>\n",
              "    <tr>\n",
              "      <th>2000-01-07</th>\n",
              "      <td>1613.3</td>\n",
              "      <td>1617.6</td>\n",
              "      <td>1595.8</td>\n",
              "      <td>1638.7</td>\n",
              "      <td>1592.2</td>\n",
              "      <td>NaN</td>\n",
              "      <td>NaN</td>\n",
              "      <td>NaN</td>\n",
              "      <td>NaN</td>\n",
              "      <td>NaN</td>\n",
              "      <td>NaN</td>\n",
              "      <td>NaN</td>\n",
              "      <td>NaN</td>\n",
              "      <td>NaN</td>\n",
              "      <td>NaN</td>\n",
              "      <td>NaN</td>\n",
              "    </tr>\n",
              "    <tr>\n",
              "      <th>2000-01-10</th>\n",
              "      <td>1632.9</td>\n",
              "      <td>1613.3</td>\n",
              "      <td>1617.6</td>\n",
              "      <td>1595.8</td>\n",
              "      <td>1638.7</td>\n",
              "      <td>1592.2</td>\n",
              "      <td>NaN</td>\n",
              "      <td>NaN</td>\n",
              "      <td>NaN</td>\n",
              "      <td>NaN</td>\n",
              "      <td>NaN</td>\n",
              "      <td>NaN</td>\n",
              "      <td>NaN</td>\n",
              "      <td>NaN</td>\n",
              "      <td>NaN</td>\n",
              "      <td>NaN</td>\n",
              "    </tr>\n",
              "    <tr>\n",
              "      <th>2000-01-11</th>\n",
              "      <td>1572.5</td>\n",
              "      <td>1632.9</td>\n",
              "      <td>1613.3</td>\n",
              "      <td>1617.6</td>\n",
              "      <td>1595.8</td>\n",
              "      <td>1638.7</td>\n",
              "      <td>1592.2</td>\n",
              "      <td>NaN</td>\n",
              "      <td>NaN</td>\n",
              "      <td>NaN</td>\n",
              "      <td>NaN</td>\n",
              "      <td>NaN</td>\n",
              "      <td>NaN</td>\n",
              "      <td>NaN</td>\n",
              "      <td>NaN</td>\n",
              "      <td>NaN</td>\n",
              "    </tr>\n",
              "    <tr>\n",
              "      <th>2000-01-12</th>\n",
              "      <td>1624.8</td>\n",
              "      <td>1572.5</td>\n",
              "      <td>1632.9</td>\n",
              "      <td>1613.3</td>\n",
              "      <td>1617.6</td>\n",
              "      <td>1595.8</td>\n",
              "      <td>1638.7</td>\n",
              "      <td>1592.2</td>\n",
              "      <td>NaN</td>\n",
              "      <td>NaN</td>\n",
              "      <td>NaN</td>\n",
              "      <td>NaN</td>\n",
              "      <td>NaN</td>\n",
              "      <td>NaN</td>\n",
              "      <td>NaN</td>\n",
              "      <td>NaN</td>\n",
              "    </tr>\n",
              "    <tr>\n",
              "      <th>2000-01-13</th>\n",
              "      <td>1621.4</td>\n",
              "      <td>1624.8</td>\n",
              "      <td>1572.5</td>\n",
              "      <td>1632.9</td>\n",
              "      <td>1613.3</td>\n",
              "      <td>1617.6</td>\n",
              "      <td>1595.8</td>\n",
              "      <td>1638.7</td>\n",
              "      <td>1592.2</td>\n",
              "      <td>NaN</td>\n",
              "      <td>NaN</td>\n",
              "      <td>NaN</td>\n",
              "      <td>NaN</td>\n",
              "      <td>NaN</td>\n",
              "      <td>NaN</td>\n",
              "      <td>NaN</td>\n",
              "    </tr>\n",
              "    <tr>\n",
              "      <th>2000-01-14</th>\n",
              "      <td>1622.7</td>\n",
              "      <td>1621.4</td>\n",
              "      <td>1624.8</td>\n",
              "      <td>1572.5</td>\n",
              "      <td>1632.9</td>\n",
              "      <td>1613.3</td>\n",
              "      <td>1617.6</td>\n",
              "      <td>1595.8</td>\n",
              "      <td>1638.7</td>\n",
              "      <td>1592.2</td>\n",
              "      <td>NaN</td>\n",
              "      <td>NaN</td>\n",
              "      <td>NaN</td>\n",
              "      <td>NaN</td>\n",
              "      <td>NaN</td>\n",
              "      <td>NaN</td>\n",
              "    </tr>\n",
              "    <tr>\n",
              "      <th>2000-01-17</th>\n",
              "      <td>1611.6</td>\n",
              "      <td>1622.7</td>\n",
              "      <td>1621.4</td>\n",
              "      <td>1624.8</td>\n",
              "      <td>1572.5</td>\n",
              "      <td>1632.9</td>\n",
              "      <td>1613.3</td>\n",
              "      <td>1617.6</td>\n",
              "      <td>1595.8</td>\n",
              "      <td>1638.7</td>\n",
              "      <td>1592.2</td>\n",
              "      <td>NaN</td>\n",
              "      <td>NaN</td>\n",
              "      <td>NaN</td>\n",
              "      <td>NaN</td>\n",
              "      <td>NaN</td>\n",
              "    </tr>\n",
              "    <tr>\n",
              "      <th>2000-01-18</th>\n",
              "      <td>1606.7</td>\n",
              "      <td>1611.6</td>\n",
              "      <td>1622.7</td>\n",
              "      <td>1621.4</td>\n",
              "      <td>1624.8</td>\n",
              "      <td>1572.5</td>\n",
              "      <td>1632.9</td>\n",
              "      <td>1613.3</td>\n",
              "      <td>1617.6</td>\n",
              "      <td>1595.8</td>\n",
              "      <td>1638.7</td>\n",
              "      <td>1592.2</td>\n",
              "      <td>NaN</td>\n",
              "      <td>NaN</td>\n",
              "      <td>NaN</td>\n",
              "      <td>NaN</td>\n",
              "    </tr>\n",
              "    <tr>\n",
              "      <th>2000-01-19</th>\n",
              "      <td>1634.8</td>\n",
              "      <td>1606.7</td>\n",
              "      <td>1611.6</td>\n",
              "      <td>1622.7</td>\n",
              "      <td>1621.4</td>\n",
              "      <td>1624.8</td>\n",
              "      <td>1572.5</td>\n",
              "      <td>1632.9</td>\n",
              "      <td>1613.3</td>\n",
              "      <td>1617.6</td>\n",
              "      <td>1595.8</td>\n",
              "      <td>1638.7</td>\n",
              "      <td>1592.2</td>\n",
              "      <td>NaN</td>\n",
              "      <td>NaN</td>\n",
              "      <td>NaN</td>\n",
              "    </tr>\n",
              "    <tr>\n",
              "      <th>2000-01-20</th>\n",
              "      <td>1601.1</td>\n",
              "      <td>1634.8</td>\n",
              "      <td>1606.7</td>\n",
              "      <td>1611.6</td>\n",
              "      <td>1622.7</td>\n",
              "      <td>1621.4</td>\n",
              "      <td>1624.8</td>\n",
              "      <td>1572.5</td>\n",
              "      <td>1632.9</td>\n",
              "      <td>1613.3</td>\n",
              "      <td>1617.6</td>\n",
              "      <td>1595.8</td>\n",
              "      <td>1638.7</td>\n",
              "      <td>1592.2</td>\n",
              "      <td>NaN</td>\n",
              "      <td>NaN</td>\n",
              "    </tr>\n",
              "    <tr>\n",
              "      <th>2000-01-21</th>\n",
              "      <td>1620.6</td>\n",
              "      <td>1601.1</td>\n",
              "      <td>1634.8</td>\n",
              "      <td>1606.7</td>\n",
              "      <td>1611.6</td>\n",
              "      <td>1622.7</td>\n",
              "      <td>1621.4</td>\n",
              "      <td>1624.8</td>\n",
              "      <td>1572.5</td>\n",
              "      <td>1632.9</td>\n",
              "      <td>1613.3</td>\n",
              "      <td>1617.6</td>\n",
              "      <td>1595.8</td>\n",
              "      <td>1638.7</td>\n",
              "      <td>1592.2</td>\n",
              "      <td>NaN</td>\n",
              "    </tr>\n",
              "    <tr>\n",
              "      <th>2000-01-24</th>\n",
              "      <td>1613.6</td>\n",
              "      <td>1620.6</td>\n",
              "      <td>1601.1</td>\n",
              "      <td>1634.8</td>\n",
              "      <td>1606.7</td>\n",
              "      <td>1611.6</td>\n",
              "      <td>1622.7</td>\n",
              "      <td>1621.4</td>\n",
              "      <td>1624.8</td>\n",
              "      <td>1572.5</td>\n",
              "      <td>1632.9</td>\n",
              "      <td>1613.3</td>\n",
              "      <td>1617.6</td>\n",
              "      <td>1595.8</td>\n",
              "      <td>1638.7</td>\n",
              "      <td>1592.2</td>\n",
              "    </tr>\n",
              "    <tr>\n",
              "      <th>2000-01-25</th>\n",
              "      <td>1586.4</td>\n",
              "      <td>1613.6</td>\n",
              "      <td>1620.6</td>\n",
              "      <td>1601.1</td>\n",
              "      <td>1634.8</td>\n",
              "      <td>1606.7</td>\n",
              "      <td>1611.6</td>\n",
              "      <td>1622.7</td>\n",
              "      <td>1621.4</td>\n",
              "      <td>1624.8</td>\n",
              "      <td>1572.5</td>\n",
              "      <td>1632.9</td>\n",
              "      <td>1613.3</td>\n",
              "      <td>1617.6</td>\n",
              "      <td>1595.8</td>\n",
              "      <td>1638.7</td>\n",
              "    </tr>\n",
              "  </tbody>\n",
              "</table>\n",
              "</div>\n",
              "      <button class=\"colab-df-convert\" onclick=\"convertToInteractive('df-410fa32f-b94e-45ea-bd53-6f6fe2301c0b')\"\n",
              "              title=\"Convert this dataframe to an interactive table.\"\n",
              "              style=\"display:none;\">\n",
              "        \n",
              "  <svg xmlns=\"http://www.w3.org/2000/svg\" height=\"24px\"viewBox=\"0 0 24 24\"\n",
              "       width=\"24px\">\n",
              "    <path d=\"M0 0h24v24H0V0z\" fill=\"none\"/>\n",
              "    <path d=\"M18.56 5.44l.94 2.06.94-2.06 2.06-.94-2.06-.94-.94-2.06-.94 2.06-2.06.94zm-11 1L8.5 8.5l.94-2.06 2.06-.94-2.06-.94L8.5 2.5l-.94 2.06-2.06.94zm10 10l.94 2.06.94-2.06 2.06-.94-2.06-.94-.94-2.06-.94 2.06-2.06.94z\"/><path d=\"M17.41 7.96l-1.37-1.37c-.4-.4-.92-.59-1.43-.59-.52 0-1.04.2-1.43.59L10.3 9.45l-7.72 7.72c-.78.78-.78 2.05 0 2.83L4 21.41c.39.39.9.59 1.41.59.51 0 1.02-.2 1.41-.59l7.78-7.78 2.81-2.81c.8-.78.8-2.07 0-2.86zM5.41 20L4 18.59l7.72-7.72 1.47 1.35L5.41 20z\"/>\n",
              "  </svg>\n",
              "      </button>\n",
              "      \n",
              "  <style>\n",
              "    .colab-df-container {\n",
              "      display:flex;\n",
              "      flex-wrap:wrap;\n",
              "      gap: 12px;\n",
              "    }\n",
              "\n",
              "    .colab-df-convert {\n",
              "      background-color: #E8F0FE;\n",
              "      border: none;\n",
              "      border-radius: 50%;\n",
              "      cursor: pointer;\n",
              "      display: none;\n",
              "      fill: #1967D2;\n",
              "      height: 32px;\n",
              "      padding: 0 0 0 0;\n",
              "      width: 32px;\n",
              "    }\n",
              "\n",
              "    .colab-df-convert:hover {\n",
              "      background-color: #E2EBFA;\n",
              "      box-shadow: 0px 1px 2px rgba(60, 64, 67, 0.3), 0px 1px 3px 1px rgba(60, 64, 67, 0.15);\n",
              "      fill: #174EA6;\n",
              "    }\n",
              "\n",
              "    [theme=dark] .colab-df-convert {\n",
              "      background-color: #3B4455;\n",
              "      fill: #D2E3FC;\n",
              "    }\n",
              "\n",
              "    [theme=dark] .colab-df-convert:hover {\n",
              "      background-color: #434B5C;\n",
              "      box-shadow: 0px 1px 3px 1px rgba(0, 0, 0, 0.15);\n",
              "      filter: drop-shadow(0px 1px 2px rgba(0, 0, 0, 0.3));\n",
              "      fill: #FFFFFF;\n",
              "    }\n",
              "  </style>\n",
              "\n",
              "      <script>\n",
              "        const buttonEl =\n",
              "          document.querySelector('#df-410fa32f-b94e-45ea-bd53-6f6fe2301c0b button.colab-df-convert');\n",
              "        buttonEl.style.display =\n",
              "          google.colab.kernel.accessAllowed ? 'block' : 'none';\n",
              "\n",
              "        async function convertToInteractive(key) {\n",
              "          const element = document.querySelector('#df-410fa32f-b94e-45ea-bd53-6f6fe2301c0b');\n",
              "          const dataTable =\n",
              "            await google.colab.kernel.invokeFunction('convertToInteractive',\n",
              "                                                     [key], {});\n",
              "          if (!dataTable) return;\n",
              "\n",
              "          const docLinkHtml = 'Like what you see? Visit the ' +\n",
              "            '<a target=\"_blank\" href=https://colab.research.google.com/notebooks/data_table.ipynb>data table notebook</a>'\n",
              "            + ' to learn more about interactive tables.';\n",
              "          element.innerHTML = '';\n",
              "          dataTable['output_type'] = 'display_data';\n",
              "          await google.colab.output.renderOutput(dataTable, element);\n",
              "          const docLink = document.createElement('div');\n",
              "          docLink.innerHTML = docLinkHtml;\n",
              "          element.appendChild(docLink);\n",
              "        }\n",
              "      </script>\n",
              "    </div>\n",
              "  </div>\n",
              "  "
            ]
          },
          "metadata": {},
          "execution_count": 24
        }
      ]
    },
    {
      "cell_type": "code",
      "source": [
        "ts_data.dropna(inplace=True)"
      ],
      "metadata": {
        "id": "wteVF5leu7Ty"
      },
      "execution_count": null,
      "outputs": []
    },
    {
      "cell_type": "code",
      "source": [
        "ts_data.head(7)"
      ],
      "metadata": {
        "colab": {
          "base_uri": "https://localhost:8080/",
          "height": 486
        },
        "id": "P8D9J3WMvUli",
        "outputId": "7a833633-b2d4-4113-fa81-ba403c66aafc"
      },
      "execution_count": null,
      "outputs": [
        {
          "output_type": "execute_result",
          "data": {
            "text/plain": [
              "             Close  close_t_1  close_t_2  close_t_3  close_t_4  close_t_5  \\\n",
              "Date                                                                        \n",
              "2000-01-24  1613.6     1620.6     1601.1     1634.8     1606.7     1611.6   \n",
              "2000-01-25  1586.4     1613.6     1620.6     1601.1     1634.8     1606.7   \n",
              "2000-01-26  1586.4     1586.4     1613.6     1620.6     1601.1     1634.8   \n",
              "2000-01-27  1603.9     1586.4     1586.4     1613.6     1620.6     1601.1   \n",
              "2000-01-28  1599.1     1603.9     1586.4     1586.4     1613.6     1620.6   \n",
              "2000-01-31  1546.2     1599.1     1603.9     1586.4     1586.4     1613.6   \n",
              "2000-02-01  1549.5     1546.2     1599.1     1603.9     1586.4     1586.4   \n",
              "\n",
              "            close_t_6  close_t_7  close_t_8  close_t_9  close_t_10  \\\n",
              "Date                                                                 \n",
              "2000-01-24     1622.7     1621.4     1624.8     1572.5      1632.9   \n",
              "2000-01-25     1611.6     1622.7     1621.4     1624.8      1572.5   \n",
              "2000-01-26     1606.7     1611.6     1622.7     1621.4      1624.8   \n",
              "2000-01-27     1634.8     1606.7     1611.6     1622.7      1621.4   \n",
              "2000-01-28     1601.1     1634.8     1606.7     1611.6      1622.7   \n",
              "2000-01-31     1620.6     1601.1     1634.8     1606.7      1611.6   \n",
              "2000-02-01     1613.6     1620.6     1601.1     1634.8      1606.7   \n",
              "\n",
              "            close_t_11  close_t_12  close_t_13  close_t_14  close_t_15  \n",
              "Date                                                                    \n",
              "2000-01-24      1613.3      1617.6      1595.8      1638.7      1592.2  \n",
              "2000-01-25      1632.9      1613.3      1617.6      1595.8      1638.7  \n",
              "2000-01-26      1572.5      1632.9      1613.3      1617.6      1595.8  \n",
              "2000-01-27      1624.8      1572.5      1632.9      1613.3      1617.6  \n",
              "2000-01-28      1621.4      1624.8      1572.5      1632.9      1613.3  \n",
              "2000-01-31      1622.7      1621.4      1624.8      1572.5      1632.9  \n",
              "2000-02-01      1611.6      1622.7      1621.4      1624.8      1572.5  "
            ],
            "text/html": [
              "\n",
              "  <div id=\"df-2da0761e-4691-4902-97bb-a4ccb17d5877\">\n",
              "    <div class=\"colab-df-container\">\n",
              "      <div>\n",
              "<style scoped>\n",
              "    .dataframe tbody tr th:only-of-type {\n",
              "        vertical-align: middle;\n",
              "    }\n",
              "\n",
              "    .dataframe tbody tr th {\n",
              "        vertical-align: top;\n",
              "    }\n",
              "\n",
              "    .dataframe thead th {\n",
              "        text-align: right;\n",
              "    }\n",
              "</style>\n",
              "<table border=\"1\" class=\"dataframe\">\n",
              "  <thead>\n",
              "    <tr style=\"text-align: right;\">\n",
              "      <th></th>\n",
              "      <th>Close</th>\n",
              "      <th>close_t_1</th>\n",
              "      <th>close_t_2</th>\n",
              "      <th>close_t_3</th>\n",
              "      <th>close_t_4</th>\n",
              "      <th>close_t_5</th>\n",
              "      <th>close_t_6</th>\n",
              "      <th>close_t_7</th>\n",
              "      <th>close_t_8</th>\n",
              "      <th>close_t_9</th>\n",
              "      <th>close_t_10</th>\n",
              "      <th>close_t_11</th>\n",
              "      <th>close_t_12</th>\n",
              "      <th>close_t_13</th>\n",
              "      <th>close_t_14</th>\n",
              "      <th>close_t_15</th>\n",
              "    </tr>\n",
              "    <tr>\n",
              "      <th>Date</th>\n",
              "      <th></th>\n",
              "      <th></th>\n",
              "      <th></th>\n",
              "      <th></th>\n",
              "      <th></th>\n",
              "      <th></th>\n",
              "      <th></th>\n",
              "      <th></th>\n",
              "      <th></th>\n",
              "      <th></th>\n",
              "      <th></th>\n",
              "      <th></th>\n",
              "      <th></th>\n",
              "      <th></th>\n",
              "      <th></th>\n",
              "      <th></th>\n",
              "    </tr>\n",
              "  </thead>\n",
              "  <tbody>\n",
              "    <tr>\n",
              "      <th>2000-01-24</th>\n",
              "      <td>1613.6</td>\n",
              "      <td>1620.6</td>\n",
              "      <td>1601.1</td>\n",
              "      <td>1634.8</td>\n",
              "      <td>1606.7</td>\n",
              "      <td>1611.6</td>\n",
              "      <td>1622.7</td>\n",
              "      <td>1621.4</td>\n",
              "      <td>1624.8</td>\n",
              "      <td>1572.5</td>\n",
              "      <td>1632.9</td>\n",
              "      <td>1613.3</td>\n",
              "      <td>1617.6</td>\n",
              "      <td>1595.8</td>\n",
              "      <td>1638.7</td>\n",
              "      <td>1592.2</td>\n",
              "    </tr>\n",
              "    <tr>\n",
              "      <th>2000-01-25</th>\n",
              "      <td>1586.4</td>\n",
              "      <td>1613.6</td>\n",
              "      <td>1620.6</td>\n",
              "      <td>1601.1</td>\n",
              "      <td>1634.8</td>\n",
              "      <td>1606.7</td>\n",
              "      <td>1611.6</td>\n",
              "      <td>1622.7</td>\n",
              "      <td>1621.4</td>\n",
              "      <td>1624.8</td>\n",
              "      <td>1572.5</td>\n",
              "      <td>1632.9</td>\n",
              "      <td>1613.3</td>\n",
              "      <td>1617.6</td>\n",
              "      <td>1595.8</td>\n",
              "      <td>1638.7</td>\n",
              "    </tr>\n",
              "    <tr>\n",
              "      <th>2000-01-26</th>\n",
              "      <td>1586.4</td>\n",
              "      <td>1586.4</td>\n",
              "      <td>1613.6</td>\n",
              "      <td>1620.6</td>\n",
              "      <td>1601.1</td>\n",
              "      <td>1634.8</td>\n",
              "      <td>1606.7</td>\n",
              "      <td>1611.6</td>\n",
              "      <td>1622.7</td>\n",
              "      <td>1621.4</td>\n",
              "      <td>1624.8</td>\n",
              "      <td>1572.5</td>\n",
              "      <td>1632.9</td>\n",
              "      <td>1613.3</td>\n",
              "      <td>1617.6</td>\n",
              "      <td>1595.8</td>\n",
              "    </tr>\n",
              "    <tr>\n",
              "      <th>2000-01-27</th>\n",
              "      <td>1603.9</td>\n",
              "      <td>1586.4</td>\n",
              "      <td>1586.4</td>\n",
              "      <td>1613.6</td>\n",
              "      <td>1620.6</td>\n",
              "      <td>1601.1</td>\n",
              "      <td>1634.8</td>\n",
              "      <td>1606.7</td>\n",
              "      <td>1611.6</td>\n",
              "      <td>1622.7</td>\n",
              "      <td>1621.4</td>\n",
              "      <td>1624.8</td>\n",
              "      <td>1572.5</td>\n",
              "      <td>1632.9</td>\n",
              "      <td>1613.3</td>\n",
              "      <td>1617.6</td>\n",
              "    </tr>\n",
              "    <tr>\n",
              "      <th>2000-01-28</th>\n",
              "      <td>1599.1</td>\n",
              "      <td>1603.9</td>\n",
              "      <td>1586.4</td>\n",
              "      <td>1586.4</td>\n",
              "      <td>1613.6</td>\n",
              "      <td>1620.6</td>\n",
              "      <td>1601.1</td>\n",
              "      <td>1634.8</td>\n",
              "      <td>1606.7</td>\n",
              "      <td>1611.6</td>\n",
              "      <td>1622.7</td>\n",
              "      <td>1621.4</td>\n",
              "      <td>1624.8</td>\n",
              "      <td>1572.5</td>\n",
              "      <td>1632.9</td>\n",
              "      <td>1613.3</td>\n",
              "    </tr>\n",
              "    <tr>\n",
              "      <th>2000-01-31</th>\n",
              "      <td>1546.2</td>\n",
              "      <td>1599.1</td>\n",
              "      <td>1603.9</td>\n",
              "      <td>1586.4</td>\n",
              "      <td>1586.4</td>\n",
              "      <td>1613.6</td>\n",
              "      <td>1620.6</td>\n",
              "      <td>1601.1</td>\n",
              "      <td>1634.8</td>\n",
              "      <td>1606.7</td>\n",
              "      <td>1611.6</td>\n",
              "      <td>1622.7</td>\n",
              "      <td>1621.4</td>\n",
              "      <td>1624.8</td>\n",
              "      <td>1572.5</td>\n",
              "      <td>1632.9</td>\n",
              "    </tr>\n",
              "    <tr>\n",
              "      <th>2000-02-01</th>\n",
              "      <td>1549.5</td>\n",
              "      <td>1546.2</td>\n",
              "      <td>1599.1</td>\n",
              "      <td>1603.9</td>\n",
              "      <td>1586.4</td>\n",
              "      <td>1586.4</td>\n",
              "      <td>1613.6</td>\n",
              "      <td>1620.6</td>\n",
              "      <td>1601.1</td>\n",
              "      <td>1634.8</td>\n",
              "      <td>1606.7</td>\n",
              "      <td>1611.6</td>\n",
              "      <td>1622.7</td>\n",
              "      <td>1621.4</td>\n",
              "      <td>1624.8</td>\n",
              "      <td>1572.5</td>\n",
              "    </tr>\n",
              "  </tbody>\n",
              "</table>\n",
              "</div>\n",
              "      <button class=\"colab-df-convert\" onclick=\"convertToInteractive('df-2da0761e-4691-4902-97bb-a4ccb17d5877')\"\n",
              "              title=\"Convert this dataframe to an interactive table.\"\n",
              "              style=\"display:none;\">\n",
              "        \n",
              "  <svg xmlns=\"http://www.w3.org/2000/svg\" height=\"24px\"viewBox=\"0 0 24 24\"\n",
              "       width=\"24px\">\n",
              "    <path d=\"M0 0h24v24H0V0z\" fill=\"none\"/>\n",
              "    <path d=\"M18.56 5.44l.94 2.06.94-2.06 2.06-.94-2.06-.94-.94-2.06-.94 2.06-2.06.94zm-11 1L8.5 8.5l.94-2.06 2.06-.94-2.06-.94L8.5 2.5l-.94 2.06-2.06.94zm10 10l.94 2.06.94-2.06 2.06-.94-2.06-.94-.94-2.06-.94 2.06-2.06.94z\"/><path d=\"M17.41 7.96l-1.37-1.37c-.4-.4-.92-.59-1.43-.59-.52 0-1.04.2-1.43.59L10.3 9.45l-7.72 7.72c-.78.78-.78 2.05 0 2.83L4 21.41c.39.39.9.59 1.41.59.51 0 1.02-.2 1.41-.59l7.78-7.78 2.81-2.81c.8-.78.8-2.07 0-2.86zM5.41 20L4 18.59l7.72-7.72 1.47 1.35L5.41 20z\"/>\n",
              "  </svg>\n",
              "      </button>\n",
              "      \n",
              "  <style>\n",
              "    .colab-df-container {\n",
              "      display:flex;\n",
              "      flex-wrap:wrap;\n",
              "      gap: 12px;\n",
              "    }\n",
              "\n",
              "    .colab-df-convert {\n",
              "      background-color: #E8F0FE;\n",
              "      border: none;\n",
              "      border-radius: 50%;\n",
              "      cursor: pointer;\n",
              "      display: none;\n",
              "      fill: #1967D2;\n",
              "      height: 32px;\n",
              "      padding: 0 0 0 0;\n",
              "      width: 32px;\n",
              "    }\n",
              "\n",
              "    .colab-df-convert:hover {\n",
              "      background-color: #E2EBFA;\n",
              "      box-shadow: 0px 1px 2px rgba(60, 64, 67, 0.3), 0px 1px 3px 1px rgba(60, 64, 67, 0.15);\n",
              "      fill: #174EA6;\n",
              "    }\n",
              "\n",
              "    [theme=dark] .colab-df-convert {\n",
              "      background-color: #3B4455;\n",
              "      fill: #D2E3FC;\n",
              "    }\n",
              "\n",
              "    [theme=dark] .colab-df-convert:hover {\n",
              "      background-color: #434B5C;\n",
              "      box-shadow: 0px 1px 3px 1px rgba(0, 0, 0, 0.15);\n",
              "      filter: drop-shadow(0px 1px 2px rgba(0, 0, 0, 0.3));\n",
              "      fill: #FFFFFF;\n",
              "    }\n",
              "  </style>\n",
              "\n",
              "      <script>\n",
              "        const buttonEl =\n",
              "          document.querySelector('#df-2da0761e-4691-4902-97bb-a4ccb17d5877 button.colab-df-convert');\n",
              "        buttonEl.style.display =\n",
              "          google.colab.kernel.accessAllowed ? 'block' : 'none';\n",
              "\n",
              "        async function convertToInteractive(key) {\n",
              "          const element = document.querySelector('#df-2da0761e-4691-4902-97bb-a4ccb17d5877');\n",
              "          const dataTable =\n",
              "            await google.colab.kernel.invokeFunction('convertToInteractive',\n",
              "                                                     [key], {});\n",
              "          if (!dataTable) return;\n",
              "\n",
              "          const docLinkHtml = 'Like what you see? Visit the ' +\n",
              "            '<a target=\"_blank\" href=https://colab.research.google.com/notebooks/data_table.ipynb>data table notebook</a>'\n",
              "            + ' to learn more about interactive tables.';\n",
              "          element.innerHTML = '';\n",
              "          dataTable['output_type'] = 'display_data';\n",
              "          await google.colab.output.renderOutput(dataTable, element);\n",
              "          const docLink = document.createElement('div');\n",
              "          docLink.innerHTML = docLinkHtml;\n",
              "          element.appendChild(docLink);\n",
              "        }\n",
              "      </script>\n",
              "    </div>\n",
              "  </div>\n",
              "  "
            ]
          },
          "metadata": {},
          "execution_count": 26
        }
      ]
    },
    {
      "cell_type": "markdown",
      "source": [
        "Now it is a normal regression problem with independent and dependent variables"
      ],
      "metadata": {
        "id": "NYNdv6Q0va4S"
      }
    },
    {
      "cell_type": "markdown",
      "source": [
        "#X,Y and train test split"
      ],
      "metadata": {
        "id": "AQBEtmwWvdsz"
      }
    },
    {
      "cell_type": "code",
      "source": [
        "Y = ts_data['Close']\n",
        "X = ts_data.drop('Close',axis=1)"
      ],
      "metadata": {
        "id": "uEqF3oufvUi6"
      },
      "execution_count": null,
      "outputs": []
    },
    {
      "cell_type": "code",
      "source": [
        "X.shape, Y.shape"
      ],
      "metadata": {
        "colab": {
          "base_uri": "https://localhost:8080/"
        },
        "id": "JjpvitC_vh9t",
        "outputId": "6d73fe2d-2bcd-4c95-a0bf-da2b4eb1eccd"
      },
      "execution_count": null,
      "outputs": [
        {
          "output_type": "execute_result",
          "data": {
            "text/plain": [
              "((6025, 15), (6025,))"
            ]
          },
          "metadata": {},
          "execution_count": 28
        }
      ]
    },
    {
      "cell_type": "code",
      "source": [
        "from sklearn.model_selection import train_test_split\n",
        "X_train,X_test,Y_train,Y_test = train_test_split(X,Y, test_size=0.1, random_state=7)\n",
        "X_train.shape,X_test.shape,Y_train.shape,Y_test.shape"
      ],
      "metadata": {
        "colab": {
          "base_uri": "https://localhost:8080/"
        },
        "id": "Ru8XOOE6vh67",
        "outputId": "118c8f7c-7878-4887-a67b-1c8c54f8c798"
      },
      "execution_count": null,
      "outputs": [
        {
          "output_type": "execute_result",
          "data": {
            "text/plain": [
              "((5422, 15), (603, 15), (5422,), (603,))"
            ]
          },
          "metadata": {},
          "execution_count": 29
        }
      ]
    },
    {
      "cell_type": "code",
      "source": [
        "def eval_fun(Y_test,Y_pred):\n",
        "    from sklearn.metrics import r2_score,mean_squared_error,mean_absolute_error\n",
        "    mse = mean_squared_error(Y_test,Y_pred)\n",
        "    mae = mean_absolute_error(Y_test,Y_pred)\n",
        "    return mse, mae"
      ],
      "metadata": {
        "id": "KONEb8LfvUd6"
      },
      "execution_count": null,
      "outputs": []
    },
    {
      "cell_type": "code",
      "source": [
        "# create a RF regressor\n",
        "from sklearn.ensemble import RandomForestRegressor\n",
        "rf = RandomForestRegressor(n_estimators=50,max_depth=5, oob_score=True,random_state=7)\n",
        "rf.fit(X_train,Y_train)"
      ],
      "metadata": {
        "colab": {
          "base_uri": "https://localhost:8080/",
          "height": 92
        },
        "id": "_eabTeMhvqqz",
        "outputId": "ab289fbe-a5d9-4627-9529-7a072b1bd429"
      },
      "execution_count": null,
      "outputs": [
        {
          "output_type": "execute_result",
          "data": {
            "text/plain": [
              "RandomForestRegressor(max_depth=5, n_estimators=50, oob_score=True,\n",
              "                      random_state=7)"
            ],
            "text/html": [
              "<style>#sk-container-id-1 {color: black;background-color: white;}#sk-container-id-1 pre{padding: 0;}#sk-container-id-1 div.sk-toggleable {background-color: white;}#sk-container-id-1 label.sk-toggleable__label {cursor: pointer;display: block;width: 100%;margin-bottom: 0;padding: 0.3em;box-sizing: border-box;text-align: center;}#sk-container-id-1 label.sk-toggleable__label-arrow:before {content: \"▸\";float: left;margin-right: 0.25em;color: #696969;}#sk-container-id-1 label.sk-toggleable__label-arrow:hover:before {color: black;}#sk-container-id-1 div.sk-estimator:hover label.sk-toggleable__label-arrow:before {color: black;}#sk-container-id-1 div.sk-toggleable__content {max-height: 0;max-width: 0;overflow: hidden;text-align: left;background-color: #f0f8ff;}#sk-container-id-1 div.sk-toggleable__content pre {margin: 0.2em;color: black;border-radius: 0.25em;background-color: #f0f8ff;}#sk-container-id-1 input.sk-toggleable__control:checked~div.sk-toggleable__content {max-height: 200px;max-width: 100%;overflow: auto;}#sk-container-id-1 input.sk-toggleable__control:checked~label.sk-toggleable__label-arrow:before {content: \"▾\";}#sk-container-id-1 div.sk-estimator input.sk-toggleable__control:checked~label.sk-toggleable__label {background-color: #d4ebff;}#sk-container-id-1 div.sk-label input.sk-toggleable__control:checked~label.sk-toggleable__label {background-color: #d4ebff;}#sk-container-id-1 input.sk-hidden--visually {border: 0;clip: rect(1px 1px 1px 1px);clip: rect(1px, 1px, 1px, 1px);height: 1px;margin: -1px;overflow: hidden;padding: 0;position: absolute;width: 1px;}#sk-container-id-1 div.sk-estimator {font-family: monospace;background-color: #f0f8ff;border: 1px dotted black;border-radius: 0.25em;box-sizing: border-box;margin-bottom: 0.5em;}#sk-container-id-1 div.sk-estimator:hover {background-color: #d4ebff;}#sk-container-id-1 div.sk-parallel-item::after {content: \"\";width: 100%;border-bottom: 1px solid gray;flex-grow: 1;}#sk-container-id-1 div.sk-label:hover label.sk-toggleable__label {background-color: #d4ebff;}#sk-container-id-1 div.sk-serial::before {content: \"\";position: absolute;border-left: 1px solid gray;box-sizing: border-box;top: 0;bottom: 0;left: 50%;z-index: 0;}#sk-container-id-1 div.sk-serial {display: flex;flex-direction: column;align-items: center;background-color: white;padding-right: 0.2em;padding-left: 0.2em;position: relative;}#sk-container-id-1 div.sk-item {position: relative;z-index: 1;}#sk-container-id-1 div.sk-parallel {display: flex;align-items: stretch;justify-content: center;background-color: white;position: relative;}#sk-container-id-1 div.sk-item::before, #sk-container-id-1 div.sk-parallel-item::before {content: \"\";position: absolute;border-left: 1px solid gray;box-sizing: border-box;top: 0;bottom: 0;left: 50%;z-index: -1;}#sk-container-id-1 div.sk-parallel-item {display: flex;flex-direction: column;z-index: 1;position: relative;background-color: white;}#sk-container-id-1 div.sk-parallel-item:first-child::after {align-self: flex-end;width: 50%;}#sk-container-id-1 div.sk-parallel-item:last-child::after {align-self: flex-start;width: 50%;}#sk-container-id-1 div.sk-parallel-item:only-child::after {width: 0;}#sk-container-id-1 div.sk-dashed-wrapped {border: 1px dashed gray;margin: 0 0.4em 0.5em 0.4em;box-sizing: border-box;padding-bottom: 0.4em;background-color: white;}#sk-container-id-1 div.sk-label label {font-family: monospace;font-weight: bold;display: inline-block;line-height: 1.2em;}#sk-container-id-1 div.sk-label-container {text-align: center;}#sk-container-id-1 div.sk-container {/* jupyter's `normalize.less` sets `[hidden] { display: none; }` but bootstrap.min.css set `[hidden] { display: none !important; }` so we also need the `!important` here to be able to override the default hidden behavior on the sphinx rendered scikit-learn.org. See: https://github.com/scikit-learn/scikit-learn/issues/21755 */display: inline-block !important;position: relative;}#sk-container-id-1 div.sk-text-repr-fallback {display: none;}</style><div id=\"sk-container-id-1\" class=\"sk-top-container\"><div class=\"sk-text-repr-fallback\"><pre>RandomForestRegressor(max_depth=5, n_estimators=50, oob_score=True,\n",
              "                      random_state=7)</pre><b>In a Jupyter environment, please rerun this cell to show the HTML representation or trust the notebook. <br />On GitHub, the HTML representation is unable to render, please try loading this page with nbviewer.org.</b></div><div class=\"sk-container\" hidden><div class=\"sk-item\"><div class=\"sk-estimator sk-toggleable\"><input class=\"sk-toggleable__control sk-hidden--visually\" id=\"sk-estimator-id-1\" type=\"checkbox\" checked><label for=\"sk-estimator-id-1\" class=\"sk-toggleable__label sk-toggleable__label-arrow\">RandomForestRegressor</label><div class=\"sk-toggleable__content\"><pre>RandomForestRegressor(max_depth=5, n_estimators=50, oob_score=True,\n",
              "                      random_state=7)</pre></div></div></div></div></div>"
            ]
          },
          "metadata": {},
          "execution_count": 31
        }
      ]
    },
    {
      "cell_type": "code",
      "source": [
        "Y_pred_rf = rf.predict(X_test)"
      ],
      "metadata": {
        "id": "1rXV4s3hvtTT"
      },
      "execution_count": null,
      "outputs": []
    },
    {
      "cell_type": "code",
      "source": [
        "mse, mae = eval_fun(Y_test,Y_pred_rf) \n",
        "print(\"mse = \", mse, \" mae =\", mae)"
      ],
      "metadata": {
        "colab": {
          "base_uri": "https://localhost:8080/"
        },
        "id": "qAPaxoCQvt26",
        "outputId": "f46a82dc-1d27-4e6c-84f6-6dd9f9756636"
      },
      "execution_count": null,
      "outputs": [
        {
          "output_type": "stream",
          "name": "stdout",
          "text": [
            "mse =  20796.261646841605  mae = 99.72637787519551\n"
          ]
        }
      ]
    },
    {
      "cell_type": "code",
      "source": [
        "from sklearn.ensemble import GradientBoostingRegressor\n",
        "gbr = GradientBoostingRegressor(max_depth= 5, n_estimators= 50, subsample= 0.8,random_state=7)\n",
        "gbr.fit(X_train,Y_train)"
      ],
      "metadata": {
        "colab": {
          "base_uri": "https://localhost:8080/",
          "height": 92
        },
        "id": "JBXmKOCbvqoL",
        "outputId": "262b6d4d-6ea2-48af-eb80-239f6285e856"
      },
      "execution_count": null,
      "outputs": [
        {
          "output_type": "execute_result",
          "data": {
            "text/plain": [
              "GradientBoostingRegressor(max_depth=5, n_estimators=50, random_state=7,\n",
              "                          subsample=0.8)"
            ],
            "text/html": [
              "<style>#sk-container-id-2 {color: black;background-color: white;}#sk-container-id-2 pre{padding: 0;}#sk-container-id-2 div.sk-toggleable {background-color: white;}#sk-container-id-2 label.sk-toggleable__label {cursor: pointer;display: block;width: 100%;margin-bottom: 0;padding: 0.3em;box-sizing: border-box;text-align: center;}#sk-container-id-2 label.sk-toggleable__label-arrow:before {content: \"▸\";float: left;margin-right: 0.25em;color: #696969;}#sk-container-id-2 label.sk-toggleable__label-arrow:hover:before {color: black;}#sk-container-id-2 div.sk-estimator:hover label.sk-toggleable__label-arrow:before {color: black;}#sk-container-id-2 div.sk-toggleable__content {max-height: 0;max-width: 0;overflow: hidden;text-align: left;background-color: #f0f8ff;}#sk-container-id-2 div.sk-toggleable__content pre {margin: 0.2em;color: black;border-radius: 0.25em;background-color: #f0f8ff;}#sk-container-id-2 input.sk-toggleable__control:checked~div.sk-toggleable__content {max-height: 200px;max-width: 100%;overflow: auto;}#sk-container-id-2 input.sk-toggleable__control:checked~label.sk-toggleable__label-arrow:before {content: \"▾\";}#sk-container-id-2 div.sk-estimator input.sk-toggleable__control:checked~label.sk-toggleable__label {background-color: #d4ebff;}#sk-container-id-2 div.sk-label input.sk-toggleable__control:checked~label.sk-toggleable__label {background-color: #d4ebff;}#sk-container-id-2 input.sk-hidden--visually {border: 0;clip: rect(1px 1px 1px 1px);clip: rect(1px, 1px, 1px, 1px);height: 1px;margin: -1px;overflow: hidden;padding: 0;position: absolute;width: 1px;}#sk-container-id-2 div.sk-estimator {font-family: monospace;background-color: #f0f8ff;border: 1px dotted black;border-radius: 0.25em;box-sizing: border-box;margin-bottom: 0.5em;}#sk-container-id-2 div.sk-estimator:hover {background-color: #d4ebff;}#sk-container-id-2 div.sk-parallel-item::after {content: \"\";width: 100%;border-bottom: 1px solid gray;flex-grow: 1;}#sk-container-id-2 div.sk-label:hover label.sk-toggleable__label {background-color: #d4ebff;}#sk-container-id-2 div.sk-serial::before {content: \"\";position: absolute;border-left: 1px solid gray;box-sizing: border-box;top: 0;bottom: 0;left: 50%;z-index: 0;}#sk-container-id-2 div.sk-serial {display: flex;flex-direction: column;align-items: center;background-color: white;padding-right: 0.2em;padding-left: 0.2em;position: relative;}#sk-container-id-2 div.sk-item {position: relative;z-index: 1;}#sk-container-id-2 div.sk-parallel {display: flex;align-items: stretch;justify-content: center;background-color: white;position: relative;}#sk-container-id-2 div.sk-item::before, #sk-container-id-2 div.sk-parallel-item::before {content: \"\";position: absolute;border-left: 1px solid gray;box-sizing: border-box;top: 0;bottom: 0;left: 50%;z-index: -1;}#sk-container-id-2 div.sk-parallel-item {display: flex;flex-direction: column;z-index: 1;position: relative;background-color: white;}#sk-container-id-2 div.sk-parallel-item:first-child::after {align-self: flex-end;width: 50%;}#sk-container-id-2 div.sk-parallel-item:last-child::after {align-self: flex-start;width: 50%;}#sk-container-id-2 div.sk-parallel-item:only-child::after {width: 0;}#sk-container-id-2 div.sk-dashed-wrapped {border: 1px dashed gray;margin: 0 0.4em 0.5em 0.4em;box-sizing: border-box;padding-bottom: 0.4em;background-color: white;}#sk-container-id-2 div.sk-label label {font-family: monospace;font-weight: bold;display: inline-block;line-height: 1.2em;}#sk-container-id-2 div.sk-label-container {text-align: center;}#sk-container-id-2 div.sk-container {/* jupyter's `normalize.less` sets `[hidden] { display: none; }` but bootstrap.min.css set `[hidden] { display: none !important; }` so we also need the `!important` here to be able to override the default hidden behavior on the sphinx rendered scikit-learn.org. See: https://github.com/scikit-learn/scikit-learn/issues/21755 */display: inline-block !important;position: relative;}#sk-container-id-2 div.sk-text-repr-fallback {display: none;}</style><div id=\"sk-container-id-2\" class=\"sk-top-container\"><div class=\"sk-text-repr-fallback\"><pre>GradientBoostingRegressor(max_depth=5, n_estimators=50, random_state=7,\n",
              "                          subsample=0.8)</pre><b>In a Jupyter environment, please rerun this cell to show the HTML representation or trust the notebook. <br />On GitHub, the HTML representation is unable to render, please try loading this page with nbviewer.org.</b></div><div class=\"sk-container\" hidden><div class=\"sk-item\"><div class=\"sk-estimator sk-toggleable\"><input class=\"sk-toggleable__control sk-hidden--visually\" id=\"sk-estimator-id-2\" type=\"checkbox\" checked><label for=\"sk-estimator-id-2\" class=\"sk-toggleable__label sk-toggleable__label-arrow\">GradientBoostingRegressor</label><div class=\"sk-toggleable__content\"><pre>GradientBoostingRegressor(max_depth=5, n_estimators=50, random_state=7,\n",
              "                          subsample=0.8)</pre></div></div></div></div></div>"
            ]
          },
          "metadata": {},
          "execution_count": 34
        }
      ]
    },
    {
      "cell_type": "code",
      "source": [
        "Y_pred_gbr = gbr.predict(X_test)"
      ],
      "metadata": {
        "id": "Prj-ldX0vqli"
      },
      "execution_count": null,
      "outputs": []
    },
    {
      "cell_type": "code",
      "source": [
        "mse, mae = eval_fun(Y_test,Y_pred_gbr) \n",
        "print( \"mse = \", mse, \" mae =\", mae)"
      ],
      "metadata": {
        "colab": {
          "base_uri": "https://localhost:8080/"
        },
        "id": "ByUVIpUfv_CX",
        "outputId": "ee6506bb-b4a3-44a3-f4ea-d0e774c00669"
      },
      "execution_count": null,
      "outputs": [
        {
          "output_type": "stream",
          "name": "stdout",
          "text": [
            "mse =  7448.074386472882  mae = 57.66676193720374\n"
          ]
        }
      ]
    },
    {
      "cell_type": "markdown",
      "source": [
        "Plotting the reslults of above ensemble models"
      ],
      "metadata": {
        "id": "r_ODO77IwKAT"
      }
    },
    {
      "cell_type": "code",
      "source": [
        "res = pd.DataFrame([Y_test.values, Y_pred_rf, Y_pred_gbr]).T\n",
        "res.columns = ['Y_test', 'Y_pred_rf', 'Y_pred_gbr']\n",
        "res.shape"
      ],
      "metadata": {
        "colab": {
          "base_uri": "https://localhost:8080/"
        },
        "id": "gQKthslgwKqj",
        "outputId": "a829392b-8251-477d-f09e-d4c487cd8b79"
      },
      "execution_count": null,
      "outputs": [
        {
          "output_type": "execute_result",
          "data": {
            "text/plain": [
              "(603, 3)"
            ]
          },
          "metadata": {},
          "execution_count": 37
        }
      ]
    },
    {
      "cell_type": "code",
      "source": [
        "res.plot()"
      ],
      "metadata": {
        "colab": {
          "base_uri": "https://localhost:8080/",
          "height": 337
        },
        "id": "u9bkR2MCwOat",
        "outputId": "e84c3e74-319a-44f7-8df6-8057f0f1a90a"
      },
      "execution_count": null,
      "outputs": [
        {
          "output_type": "execute_result",
          "data": {
            "text/plain": [
              "<AxesSubplot:>"
            ]
          },
          "metadata": {},
          "execution_count": 38
        },
        {
          "output_type": "display_data",
          "data": {
            "text/plain": [
              "<Figure size 360x360 with 1 Axes>"
            ],
            "image/png": "[encoded data removed]"
          },
          "metadata": {
            "needs_background": "light"
          }
        }
      ]
    },
    {
      "cell_type": "markdown",
      "source": [
        "# LSTM"
      ],
      "metadata": {
        "id": "usluUmjRwSUU"
      }
    },
    {
      "cell_type": "markdown",
      "source": [
        "Reshaping the training and testing data for LSTM"
      ],
      "metadata": {
        "id": "SylemCzPwUcU"
      }
    },
    {
      "cell_type": "code",
      "source": [
        "X_train = np.reshape(X_train.values, (X_train.shape[0],X_train.shape[1], 1))"
      ],
      "metadata": {
        "id": "s9dZJRHowQaH"
      },
      "execution_count": null,
      "outputs": []
    },
    {
      "cell_type": "code",
      "source": [
        "X_train.shape"
      ],
      "metadata": {
        "colab": {
          "base_uri": "https://localhost:8080/"
        },
        "id": "G2KMiHV0wQXE",
        "outputId": "8978575f-3039-480c-92e5-b7ede1b347d5"
      },
      "execution_count": null,
      "outputs": [
        {
          "output_type": "execute_result",
          "data": {
            "text/plain": [
              "(5422, 15, 1)"
            ]
          },
          "metadata": {},
          "execution_count": 39
        }
      ]
    },
    {
      "cell_type": "markdown",
      "source": [
        "Single layer with linear activation functio"
      ],
      "metadata": {
        "id": "pqu7faOVwcik"
      }
    },
    {
      "cell_type": "code",
      "source": [
        "plt.plot(history.history['loss'])\n",
        "plt.plot(history.history['val_loss'])"
      ],
      "metadata": {
        "colab": {
          "base_uri": "https://localhost:8080/",
          "height": 348
        },
        "id": "hUHKM5hVwkVL",
        "outputId": "76b52618-c3f9-4ca9-8dc8-ee862cf73c42"
      },
      "execution_count": null,
      "outputs": [
        {
          "output_type": "execute_result",
          "data": {
            "text/plain": [
              "[<matplotlib.lines.Line2D at 0x7f398efde4f0>]"
            ]
          },
          "metadata": {},
          "execution_count": 44
        },
        {
          "output_type": "display_data",
          "data": {
            "text/plain": [
              "<Figure size 360x360 with 1 Axes>"
            ],
            "image/png": "[encoded data removed]"
          },
          "metadata": {
            "needs_background": "light"
          }
        }
      ]
    },
    {
      "cell_type": "markdown",
      "source": [
        "Multiple LSTM layers with relu activation function"
      ],
      "metadata": {
        "id": "Nqst9gE8xU87"
      }
    },
    {
      "cell_type": "code",
      "source": [
        "model1 = keras.Sequential()\n",
        "\n",
        "# LSTM layers\n",
        "model1.add(keras.layers.LSTM(units=200,return_sequences = True, \n",
        "                            input_shape= (X_train.shape[1],X_train.shape[2])))\n",
        "\n",
        "model1.add(keras.layers.LSTM(units=300,return_sequences = False))\n",
        "\n",
        "\n",
        "model1.add( keras.layers.Dense(100, activation='relu'))\n",
        "model1.add( keras.layers.Dense(90, activation='relu'))\n",
        "model1.add( keras.layers.Dense(40, activation='relu'))\n",
        "# model1.add( keras.layers.Dense(140, activation='relu'))\n",
        "# model1.add( keras.layers.Dense(160, activation='relu'))\n",
        "# model1.add( keras.layers.Dense(170, activation='relu'))\n",
        "# model1.add( keras.layers.Dense(190, activation='relu'))\n",
        "# model1.add( keras.layers.Dense(230, activation='relu'))\n",
        "# model1.add( keras.layers.Dense(240, activation='relu'))\n",
        "# model1.add( keras.layers.Dense(250, activation='relu'))\n",
        "\n",
        "#  output layer\n",
        "model1.add( keras.layers.Dense(1, activation='relu'))\n",
        "\n",
        "# Compiling the LSTM\n",
        "model1.compile(optimizer = 'adam', loss = 'mae')"
      ],
      "metadata": {
        "id": "_xURIQk4RIvi"
      },
      "execution_count": null,
      "outputs": []
    },
    {
      "cell_type": "code",
      "source": [
        "history = model1.fit(X_train, Y_train, validation_split=0.1,epochs = 100, batch_size = 50)"
      ],
      "metadata": {
        "colab": {
          "base_uri": "https://localhost:8080/"
        },
        "id": "LiiwQkwJRKs4",
        "outputId": "5f3a34cf-43e0-4189-d1dc-4788a8e2b5ca"
      },
      "execution_count": null,
      "outputs": [
        {
          "output_type": "stream",
          "name": "stdout",
          "text": [
            "Epoch 1/100\n",
            "98/98 [==============================] - 8s 21ms/step - loss: 5482.3394 - val_loss: 3653.2180\n",
            "Epoch 2/100\n",
            "98/98 [==============================] - 1s 8ms/step - loss: 3656.7432 - val_loss: 3546.4468\n",
            "Epoch 3/100\n",
            "98/98 [==============================] - 1s 8ms/step - loss: 3633.4873 - val_loss: 3521.0857\n",
            "Epoch 4/100\n",
            "98/98 [==============================] - 1s 7ms/step - loss: 3634.5127 - val_loss: 3525.7175\n",
            "Epoch 5/100\n",
            "98/98 [==============================] - 1s 8ms/step - loss: 3630.3083 - val_loss: 3522.0786\n",
            "Epoch 6/100\n",
            "98/98 [==============================] - 1s 8ms/step - loss: 3614.5198 - val_loss: 3436.3811\n",
            "Epoch 7/100\n",
            "98/98 [==============================] - 1s 8ms/step - loss: 3027.3760 - val_loss: 2337.7769\n",
            "Epoch 8/100\n",
            "98/98 [==============================] - 1s 8ms/step - loss: 2663.0066 - val_loss: 2018.3315\n",
            "Epoch 9/100\n",
            "98/98 [==============================] - 1s 8ms/step - loss: 2533.6047 - val_loss: 2153.7534\n",
            "Epoch 10/100\n",
            "98/98 [==============================] - 1s 8ms/step - loss: 2488.3069 - val_loss: 2543.7661\n",
            "Epoch 11/100\n",
            "98/98 [==============================] - 1s 7ms/step - loss: 2725.8191 - val_loss: 2283.9287\n",
            "Epoch 12/100\n",
            "98/98 [==============================] - 1s 8ms/step - loss: 2185.3237 - val_loss: 1957.8057\n",
            "Epoch 13/100\n",
            "98/98 [==============================] - 1s 8ms/step - loss: 1857.4160 - val_loss: 1165.3624\n",
            "Epoch 14/100\n",
            "98/98 [==============================] - 1s 11ms/step - loss: 1291.0054 - val_loss: 1681.8545\n",
            "Epoch 15/100\n",
            "98/98 [==============================] - 1s 10ms/step - loss: 1436.3213 - val_loss: 1368.4712\n",
            "Epoch 16/100\n",
            "98/98 [==============================] - 1s 8ms/step - loss: 1280.8328 - val_loss: 1121.2672\n",
            "Epoch 17/100\n",
            "98/98 [==============================] - 1s 8ms/step - loss: 1330.2979 - val_loss: 1109.6862\n",
            "Epoch 18/100\n",
            "98/98 [==============================] - 1s 8ms/step - loss: 1272.6505 - val_loss: 1620.8953\n",
            "Epoch 19/100\n",
            "98/98 [==============================] - 1s 8ms/step - loss: 1247.0648 - val_loss: 1141.3466\n",
            "Epoch 20/100\n",
            "98/98 [==============================] - 1s 8ms/step - loss: 1277.4497 - val_loss: 975.7303\n",
            "Epoch 21/100\n",
            "98/98 [==============================] - 1s 7ms/step - loss: 1608.2611 - val_loss: 1093.4852\n",
            "Epoch 22/100\n",
            "98/98 [==============================] - 1s 7ms/step - loss: 1252.0494 - val_loss: 1117.9680\n",
            "Epoch 23/100\n",
            "98/98 [==============================] - 1s 7ms/step - loss: 1195.1521 - val_loss: 1052.4705\n",
            "Epoch 24/100\n",
            "98/98 [==============================] - 1s 7ms/step - loss: 1218.3185 - val_loss: 985.2265\n",
            "Epoch 25/100\n",
            "98/98 [==============================] - 1s 8ms/step - loss: 1089.1152 - val_loss: 1194.9053\n",
            "Epoch 26/100\n",
            "98/98 [==============================] - 1s 8ms/step - loss: 1077.2616 - val_loss: 864.5128\n",
            "Epoch 27/100\n",
            "98/98 [==============================] - 1s 8ms/step - loss: 1108.2556 - val_loss: 1004.5370\n",
            "Epoch 28/100\n",
            "98/98 [==============================] - 1s 8ms/step - loss: 1201.6725 - val_loss: 1067.8174\n",
            "Epoch 29/100\n",
            "98/98 [==============================] - 1s 9ms/step - loss: 1163.8624 - val_loss: 1513.4216\n",
            "Epoch 30/100\n",
            "98/98 [==============================] - 1s 10ms/step - loss: 1385.9288 - val_loss: 1137.2711\n",
            "Epoch 31/100\n",
            "98/98 [==============================] - 1s 9ms/step - loss: 1173.9381 - val_loss: 1254.9293\n",
            "Epoch 32/100\n",
            "98/98 [==============================] - 1s 8ms/step - loss: 1643.0702 - val_loss: 1414.4387\n",
            "Epoch 33/100\n",
            "98/98 [==============================] - 1s 8ms/step - loss: 1305.6438 - val_loss: 911.2578\n",
            "Epoch 34/100\n",
            "98/98 [==============================] - 1s 7ms/step - loss: 1210.1586 - val_loss: 1444.2882\n",
            "Epoch 35/100\n",
            "98/98 [==============================] - 1s 7ms/step - loss: 1353.4595 - val_loss: 1182.1371\n",
            "Epoch 36/100\n",
            "98/98 [==============================] - 1s 8ms/step - loss: 1172.3059 - val_loss: 1077.5409\n",
            "Epoch 37/100\n",
            "98/98 [==============================] - 1s 8ms/step - loss: 1363.5707 - val_loss: 1069.1199\n",
            "Epoch 38/100\n",
            "98/98 [==============================] - 1s 8ms/step - loss: 1152.6219 - val_loss: 1936.4586\n",
            "Epoch 39/100\n",
            "98/98 [==============================] - 1s 8ms/step - loss: 1139.9836 - val_loss: 1000.3735\n",
            "Epoch 40/100\n",
            "98/98 [==============================] - 1s 7ms/step - loss: 1170.2367 - val_loss: 1079.0402\n",
            "Epoch 41/100\n",
            "98/98 [==============================] - 1s 7ms/step - loss: 1096.2803 - val_loss: 1016.1721\n",
            "Epoch 42/100\n",
            "98/98 [==============================] - 1s 7ms/step - loss: 1071.5116 - val_loss: 1099.8835\n",
            "Epoch 43/100\n",
            "98/98 [==============================] - 1s 7ms/step - loss: 1075.4611 - val_loss: 1018.7850\n",
            "Epoch 44/100\n",
            "98/98 [==============================] - 1s 8ms/step - loss: 1238.1025 - val_loss: 909.6505\n",
            "Epoch 45/100\n",
            "98/98 [==============================] - 1s 10ms/step - loss: 1126.5276 - val_loss: 968.4762\n",
            "Epoch 46/100\n",
            "98/98 [==============================] - 1s 11ms/step - loss: 983.8199 - val_loss: 854.4957\n",
            "Epoch 47/100\n",
            "98/98 [==============================] - 1s 8ms/step - loss: 799.9012 - val_loss: 723.4760\n",
            "Epoch 48/100\n",
            "98/98 [==============================] - 1s 7ms/step - loss: 656.2136 - val_loss: 576.5190\n",
            "Epoch 49/100\n",
            "98/98 [==============================] - 1s 7ms/step - loss: 653.0226 - val_loss: 438.0897\n",
            "Epoch 50/100\n",
            "98/98 [==============================] - 1s 8ms/step - loss: 578.5988 - val_loss: 776.4727\n",
            "Epoch 51/100\n",
            "98/98 [==============================] - 1s 7ms/step - loss: 557.9838 - val_loss: 814.0182\n",
            "Epoch 52/100\n",
            "98/98 [==============================] - 1s 8ms/step - loss: 740.9380 - val_loss: 628.5425\n",
            "Epoch 53/100\n",
            "98/98 [==============================] - 1s 8ms/step - loss: 573.4414 - val_loss: 379.0602\n",
            "Epoch 54/100\n",
            "98/98 [==============================] - 1s 7ms/step - loss: 449.3672 - val_loss: 394.3957\n",
            "Epoch 55/100\n",
            "98/98 [==============================] - 1s 8ms/step - loss: 459.3613 - val_loss: 346.7838\n",
            "Epoch 56/100\n",
            "98/98 [==============================] - 1s 7ms/step - loss: 436.3939 - val_loss: 559.9192\n",
            "Epoch 57/100\n",
            "98/98 [==============================] - 1s 7ms/step - loss: 397.2296 - val_loss: 375.8613\n",
            "Epoch 58/100\n",
            "98/98 [==============================] - 1s 7ms/step - loss: 434.6908 - val_loss: 447.1737\n",
            "Epoch 59/100\n",
            "98/98 [==============================] - 1s 8ms/step - loss: 403.4214 - val_loss: 382.5893\n",
            "Epoch 60/100\n",
            "98/98 [==============================] - 1s 9ms/step - loss: 525.8690 - val_loss: 418.3575\n",
            "Epoch 61/100\n",
            "98/98 [==============================] - 1s 10ms/step - loss: 404.6524 - val_loss: 407.2480\n",
            "Epoch 62/100\n",
            "98/98 [==============================] - 1s 9ms/step - loss: 358.1610 - val_loss: 353.1933\n",
            "Epoch 63/100\n",
            "98/98 [==============================] - 1s 8ms/step - loss: 328.2688 - val_loss: 239.4815\n",
            "Epoch 64/100\n",
            "98/98 [==============================] - 1s 8ms/step - loss: 337.3693 - val_loss: 336.5189\n",
            "Epoch 65/100\n",
            "98/98 [==============================] - 1s 8ms/step - loss: 380.5113 - val_loss: 548.5610\n",
            "Epoch 66/100\n",
            "98/98 [==============================] - 1s 7ms/step - loss: 391.8387 - val_loss: 573.5052\n",
            "Epoch 67/100\n",
            "98/98 [==============================] - 1s 7ms/step - loss: 386.6067 - val_loss: 416.7906\n",
            "Epoch 68/100\n",
            "98/98 [==============================] - 1s 8ms/step - loss: 320.9620 - val_loss: 251.4592\n",
            "Epoch 69/100\n",
            "98/98 [==============================] - 1s 8ms/step - loss: 375.1884 - val_loss: 294.3352\n",
            "Epoch 70/100\n",
            "98/98 [==============================] - 1s 8ms/step - loss: 415.3579 - val_loss: 592.3133\n",
            "Epoch 71/100\n",
            "98/98 [==============================] - 1s 7ms/step - loss: 384.1430 - val_loss: 353.2084\n",
            "Epoch 72/100\n",
            "98/98 [==============================] - 1s 7ms/step - loss: 344.5559 - val_loss: 265.9294\n",
            "Epoch 73/100\n",
            "98/98 [==============================] - 1s 7ms/step - loss: 347.1858 - val_loss: 323.7336\n",
            "Epoch 74/100\n",
            "98/98 [==============================] - 1s 7ms/step - loss: 348.2123 - val_loss: 197.6873\n",
            "Epoch 75/100\n",
            "98/98 [==============================] - 1s 15ms/step - loss: 409.9409 - val_loss: 752.7447\n",
            "Epoch 76/100\n",
            "98/98 [==============================] - 2s 20ms/step - loss: 355.2475 - val_loss: 325.2300\n",
            "Epoch 77/100\n",
            "98/98 [==============================] - 1s 12ms/step - loss: 396.2794 - val_loss: 212.4041\n",
            "Epoch 78/100\n",
            "98/98 [==============================] - 1s 8ms/step - loss: 359.8682 - val_loss: 697.5754\n",
            "Epoch 79/100\n",
            "98/98 [==============================] - 1s 7ms/step - loss: 344.8900 - val_loss: 294.4047\n",
            "Epoch 80/100\n",
            "98/98 [==============================] - 1s 8ms/step - loss: 348.4291 - val_loss: 515.0902\n",
            "Epoch 81/100\n",
            "98/98 [==============================] - 1s 8ms/step - loss: 435.1226 - val_loss: 270.7542\n",
            "Epoch 82/100\n",
            "98/98 [==============================] - 1s 8ms/step - loss: 388.8980 - val_loss: 293.0050\n",
            "Epoch 83/100\n",
            "98/98 [==============================] - 1s 8ms/step - loss: 378.9626 - val_loss: 368.2437\n",
            "Epoch 84/100\n",
            "98/98 [==============================] - 1s 7ms/step - loss: 325.5800 - val_loss: 290.5965\n",
            "Epoch 85/100\n",
            "98/98 [==============================] - 1s 8ms/step - loss: 450.4719 - val_loss: 392.2058\n",
            "Epoch 86/100\n",
            "98/98 [==============================] - 1s 8ms/step - loss: 301.6287 - val_loss: 355.2334\n",
            "Epoch 87/100\n",
            "98/98 [==============================] - 1s 7ms/step - loss: 348.9013 - val_loss: 288.9543\n",
            "Epoch 88/100\n",
            "98/98 [==============================] - 1s 8ms/step - loss: 463.5608 - val_loss: 637.6663\n",
            "Epoch 89/100\n",
            "98/98 [==============================] - 1s 9ms/step - loss: 359.6787 - val_loss: 628.9703\n",
            "Epoch 90/100\n",
            "98/98 [==============================] - 1s 11ms/step - loss: 403.9084 - val_loss: 372.5458\n",
            "Epoch 91/100\n",
            "98/98 [==============================] - 1s 10ms/step - loss: 421.2349 - val_loss: 257.6425\n",
            "Epoch 92/100\n",
            "98/98 [==============================] - 1s 8ms/step - loss: 368.5589 - val_loss: 382.2298\n",
            "Epoch 93/100\n",
            "98/98 [==============================] - 1s 8ms/step - loss: 365.7076 - val_loss: 461.5706\n",
            "Epoch 94/100\n",
            "98/98 [==============================] - 1s 8ms/step - loss: 370.7366 - val_loss: 223.3507\n",
            "Epoch 95/100\n",
            "98/98 [==============================] - 1s 8ms/step - loss: 386.5245 - val_loss: 207.3374\n",
            "Epoch 96/100\n",
            "98/98 [==============================] - 1s 8ms/step - loss: 389.0381 - val_loss: 670.2001\n",
            "Epoch 97/100\n",
            "98/98 [==============================] - 1s 8ms/step - loss: 322.3645 - val_loss: 470.8741\n",
            "Epoch 98/100\n",
            "98/98 [==============================] - 1s 8ms/step - loss: 379.8713 - val_loss: 464.1077\n",
            "Epoch 99/100\n",
            "98/98 [==============================] - 1s 7ms/step - loss: 337.4016 - val_loss: 447.1976\n",
            "Epoch 100/100\n",
            "98/98 [==============================] - 1s 8ms/step - loss: 283.1500 - val_loss: 198.4927\n"
          ]
        }
      ]
    },
    {
      "cell_type": "code",
      "source": [
        "plt.plot(history.history['loss'])\n",
        "plt.plot(history.history['val_loss'])"
      ],
      "metadata": {
        "colab": {
          "base_uri": "https://localhost:8080/",
          "height": 337
        },
        "id": "Uyq0AxRwYM1O",
        "outputId": "18fdbbb7-95f1-460b-f0c0-174ae2bd9293"
      },
      "execution_count": null,
      "outputs": [
        {
          "output_type": "execute_result",
          "data": {
            "text/plain": [
              "[<matplotlib.lines.Line2D at 0x7f360354b970>]"
            ]
          },
          "metadata": {},
          "execution_count": 53
        },
        {
          "output_type": "display_data",
          "data": {
            "text/plain": [
              "<Figure size 360x360 with 1 Axes>"
            ],
            "image/png": "[encoded data removed]"
          },
          "metadata": {
            "needs_background": "light"
          }
        }
      ]
    },
    {
      "cell_type": "code",
      "source": [
        "model2 = keras.Sequential()\n",
        "\n",
        "# LSTM layers\n",
        "model2.add(keras.layers.LSTM(units=200,return_sequences = True, \n",
        "                            input_shape= (X_train.shape[1],X_train.shape[2])))\n",
        "\n",
        "model2.add(keras.layers.LSTM(units=300,return_sequences = False))\n",
        "\n",
        "\n",
        "model2.add( keras.layers.Dense(100, activation='relu'))\n",
        "model2.add( keras.layers.Dense(90, activation='relu'))\n",
        "model2.add( keras.layers.Dense(40, activation='relu'))\n",
        "\n",
        "\n",
        "#  output layer\n",
        "model2.add( keras.layers.Dense(1, activation='relu'))\n",
        "\n",
        "# Compiling the LSTM\n",
        "model2.compile(optimizer = 'adam', loss = 'mae')"
      ],
      "metadata": {
        "id": "3VYqPnUiYMuF"
      },
      "execution_count": null,
      "outputs": []
    },
    {
      "cell_type": "code",
      "source": [
        "history2 = model2.fit(X_train, Y_train, validation_split=0.1,epochs = 100, batch_size = 50)"
      ],
      "metadata": {
        "colab": {
          "base_uri": "https://localhost:8080/"
        },
        "id": "3rVKl1WpKums",
        "outputId": "1f06407f-253a-41ae-acd3-e9bd2c2a87f2"
      },
      "execution_count": null,
      "outputs": [
        {
          "output_type": "stream",
          "name": "stdout",
          "text": [
            "Epoch 1/100\n",
            "98/98 [==============================] - 9s 17ms/step - loss: 6494.0063 - val_loss: 6408.3530\n",
            "Epoch 2/100\n",
            "98/98 [==============================] - 1s 7ms/step - loss: 6494.0044 - val_loss: 6408.3530\n",
            "Epoch 3/100\n",
            "98/98 [==============================] - 1s 7ms/step - loss: 6494.0049 - val_loss: 6408.3530\n",
            "Epoch 4/100\n",
            "98/98 [==============================] - 1s 7ms/step - loss: 6494.0049 - val_loss: 6408.3530\n",
            "Epoch 5/100\n",
            "98/98 [==============================] - 1s 7ms/step - loss: 6494.0049 - val_loss: 6408.3530\n",
            "Epoch 6/100\n",
            "98/98 [==============================] - 1s 7ms/step - loss: 6494.0039 - val_loss: 6408.3530\n",
            "Epoch 7/100\n",
            "98/98 [==============================] - 1s 9ms/step - loss: 6494.0049 - val_loss: 6408.3530\n",
            "Epoch 8/100\n",
            "98/98 [==============================] - 1s 10ms/step - loss: 6494.0063 - val_loss: 6408.3530\n",
            "Epoch 9/100\n",
            "98/98 [==============================] - 1s 10ms/step - loss: 6494.0054 - val_loss: 6408.3530\n",
            "Epoch 10/100\n",
            "98/98 [==============================] - 1s 7ms/step - loss: 6494.0063 - val_loss: 6408.3530\n",
            "Epoch 11/100\n",
            "98/98 [==============================] - 1s 7ms/step - loss: 6494.0039 - val_loss: 6408.3530\n",
            "Epoch 12/100\n",
            "98/98 [==============================] - 1s 7ms/step - loss: 6494.0039 - val_loss: 6408.3530\n",
            "Epoch 13/100\n",
            "98/98 [==============================] - 1s 7ms/step - loss: 6494.0039 - val_loss: 6408.3530\n",
            "Epoch 14/100\n",
            "98/98 [==============================] - 1s 7ms/step - loss: 6494.0049 - val_loss: 6408.3530\n",
            "Epoch 15/100\n",
            "98/98 [==============================] - 1s 7ms/step - loss: 6494.0039 - val_loss: 6408.3530\n",
            "Epoch 16/100\n",
            "98/98 [==============================] - 1s 7ms/step - loss: 6494.0059 - val_loss: 6408.3530\n",
            "Epoch 17/100\n",
            "98/98 [==============================] - 1s 7ms/step - loss: 6494.0063 - val_loss: 6408.3530\n",
            "Epoch 18/100\n",
            "98/98 [==============================] - 1s 7ms/step - loss: 6494.0054 - val_loss: 6408.3530\n",
            "Epoch 19/100\n",
            "98/98 [==============================] - 1s 7ms/step - loss: 6494.0063 - val_loss: 6408.3530\n",
            "Epoch 20/100\n",
            "98/98 [==============================] - 1s 7ms/step - loss: 6494.0059 - val_loss: 6408.3530\n",
            "Epoch 21/100\n",
            "98/98 [==============================] - 1s 7ms/step - loss: 6494.0054 - val_loss: 6408.3530\n",
            "Epoch 22/100\n",
            "98/98 [==============================] - 1s 7ms/step - loss: 6494.0054 - val_loss: 6408.3530\n",
            "Epoch 23/100\n",
            "98/98 [==============================] - 1s 9ms/step - loss: 6494.0049 - val_loss: 6408.3530\n",
            "Epoch 24/100\n",
            "98/98 [==============================] - 1s 11ms/step - loss: 6494.0054 - val_loss: 6408.3530\n",
            "Epoch 25/100\n",
            "98/98 [==============================] - 1s 9ms/step - loss: 6494.0059 - val_loss: 6408.3530\n",
            "Epoch 26/100\n",
            "98/98 [==============================] - 1s 7ms/step - loss: 6494.0054 - val_loss: 6408.3530\n",
            "Epoch 27/100\n",
            "98/98 [==============================] - 1s 7ms/step - loss: 6494.0054 - val_loss: 6408.3530\n",
            "Epoch 28/100\n",
            "98/98 [==============================] - 1s 7ms/step - loss: 6494.0059 - val_loss: 6408.3530\n",
            "Epoch 29/100\n",
            "98/98 [==============================] - 1s 7ms/step - loss: 6494.0049 - val_loss: 6408.3530\n",
            "Epoch 30/100\n",
            "98/98 [==============================] - 1s 7ms/step - loss: 6494.0054 - val_loss: 6408.3530\n",
            "Epoch 31/100\n",
            "98/98 [==============================] - 1s 7ms/step - loss: 6494.0068 - val_loss: 6408.3530\n",
            "Epoch 32/100\n",
            "98/98 [==============================] - 1s 8ms/step - loss: 6494.0054 - val_loss: 6408.3530\n",
            "Epoch 33/100\n",
            "98/98 [==============================] - 1s 7ms/step - loss: 6494.0059 - val_loss: 6408.3530\n",
            "Epoch 34/100\n",
            "98/98 [==============================] - 1s 8ms/step - loss: 6494.0063 - val_loss: 6408.3530\n",
            "Epoch 35/100\n",
            "98/98 [==============================] - 1s 7ms/step - loss: 6494.0063 - val_loss: 6408.3530\n",
            "Epoch 36/100\n",
            "98/98 [==============================] - 1s 8ms/step - loss: 6494.0049 - val_loss: 6408.3530\n",
            "Epoch 37/100\n",
            "98/98 [==============================] - 1s 7ms/step - loss: 6494.0049 - val_loss: 6408.3530\n",
            "Epoch 38/100\n",
            "98/98 [==============================] - 1s 8ms/step - loss: 6494.0044 - val_loss: 6408.3530\n",
            "Epoch 39/100\n",
            "98/98 [==============================] - 1s 10ms/step - loss: 6494.0049 - val_loss: 6408.3530\n",
            "Epoch 40/100\n",
            "98/98 [==============================] - 1s 10ms/step - loss: 6494.0054 - val_loss: 6408.3530\n",
            "Epoch 41/100\n",
            "98/98 [==============================] - 1s 9ms/step - loss: 6494.0049 - val_loss: 6408.3530\n",
            "Epoch 42/100\n",
            "98/98 [==============================] - 1s 8ms/step - loss: 6494.0059 - val_loss: 6408.3530\n",
            "Epoch 43/100\n",
            "98/98 [==============================] - 1s 8ms/step - loss: 6494.0063 - val_loss: 6408.3530\n",
            "Epoch 44/100\n",
            "98/98 [==============================] - 1s 8ms/step - loss: 6494.0044 - val_loss: 6408.3530\n",
            "Epoch 45/100\n",
            "98/98 [==============================] - 1s 7ms/step - loss: 6494.0054 - val_loss: 6408.3530\n",
            "Epoch 46/100\n",
            "98/98 [==============================] - 1s 7ms/step - loss: 6494.0039 - val_loss: 6408.3530\n",
            "Epoch 47/100\n",
            "98/98 [==============================] - 1s 7ms/step - loss: 6494.0039 - val_loss: 6408.3530\n",
            "Epoch 48/100\n",
            "98/98 [==============================] - 1s 7ms/step - loss: 6494.0059 - val_loss: 6408.3530\n",
            "Epoch 49/100\n",
            "98/98 [==============================] - 1s 7ms/step - loss: 6494.0054 - val_loss: 6408.3530\n",
            "Epoch 50/100\n",
            "98/98 [==============================] - 1s 7ms/step - loss: 6494.0063 - val_loss: 6408.3530\n",
            "Epoch 51/100\n",
            "98/98 [==============================] - 1s 7ms/step - loss: 6494.0063 - val_loss: 6408.3530\n",
            "Epoch 52/100\n",
            "98/98 [==============================] - 1s 7ms/step - loss: 6494.0049 - val_loss: 6408.3530\n",
            "Epoch 53/100\n",
            "98/98 [==============================] - 1s 7ms/step - loss: 6494.0063 - val_loss: 6408.3530\n",
            "Epoch 54/100\n",
            "98/98 [==============================] - 1s 8ms/step - loss: 6494.0063 - val_loss: 6408.3530\n",
            "Epoch 55/100\n",
            "98/98 [==============================] - 1s 11ms/step - loss: 6494.0049 - val_loss: 6408.3530\n",
            "Epoch 56/100\n",
            "98/98 [==============================] - 1s 10ms/step - loss: 6494.0059 - val_loss: 6408.3530\n",
            "Epoch 57/100\n",
            "98/98 [==============================] - 1s 7ms/step - loss: 6494.0063 - val_loss: 6408.3530\n",
            "Epoch 58/100\n",
            "98/98 [==============================] - 1s 7ms/step - loss: 6494.0054 - val_loss: 6408.3530\n",
            "Epoch 59/100\n",
            "98/98 [==============================] - 1s 7ms/step - loss: 6494.0044 - val_loss: 6408.3530\n",
            "Epoch 60/100\n",
            "98/98 [==============================] - 1s 8ms/step - loss: 6494.0049 - val_loss: 6408.3530\n",
            "Epoch 61/100\n",
            "98/98 [==============================] - 1s 8ms/step - loss: 6494.0044 - val_loss: 6408.3530\n",
            "Epoch 62/100\n",
            "98/98 [==============================] - 1s 8ms/step - loss: 6494.0049 - val_loss: 6408.3530\n",
            "Epoch 63/100\n",
            "98/98 [==============================] - 1s 8ms/step - loss: 6494.0054 - val_loss: 6408.3530\n",
            "Epoch 64/100\n",
            "98/98 [==============================] - 1s 8ms/step - loss: 6494.0044 - val_loss: 6408.3530\n",
            "Epoch 65/100\n",
            "98/98 [==============================] - 1s 8ms/step - loss: 6494.0054 - val_loss: 6408.3530\n",
            "Epoch 66/100\n",
            "98/98 [==============================] - 1s 8ms/step - loss: 6494.0063 - val_loss: 6408.3530\n",
            "Epoch 67/100\n",
            "98/98 [==============================] - 1s 7ms/step - loss: 6494.0049 - val_loss: 6408.3530\n",
            "Epoch 68/100\n",
            "98/98 [==============================] - 1s 7ms/step - loss: 6494.0059 - val_loss: 6408.3530\n",
            "Epoch 69/100\n",
            "98/98 [==============================] - 1s 7ms/step - loss: 6494.0059 - val_loss: 6408.3530\n",
            "Epoch 70/100\n",
            "98/98 [==============================] - 1s 9ms/step - loss: 6494.0054 - val_loss: 6408.3530\n",
            "Epoch 71/100\n",
            "98/98 [==============================] - 1s 11ms/step - loss: 6494.0068 - val_loss: 6408.3530\n",
            "Epoch 72/100\n",
            "98/98 [==============================] - 1s 9ms/step - loss: 6494.0049 - val_loss: 6408.3530\n",
            "Epoch 73/100\n",
            "98/98 [==============================] - 1s 7ms/step - loss: 6494.0039 - val_loss: 6408.3530\n",
            "Epoch 74/100\n",
            "98/98 [==============================] - 1s 7ms/step - loss: 6494.0054 - val_loss: 6408.3530\n",
            "Epoch 75/100\n",
            "98/98 [==============================] - 1s 8ms/step - loss: 6494.0054 - val_loss: 6408.3530\n",
            "Epoch 76/100\n",
            "98/98 [==============================] - 1s 8ms/step - loss: 6494.0063 - val_loss: 6408.3530\n",
            "Epoch 77/100\n",
            "98/98 [==============================] - 1s 8ms/step - loss: 6494.0054 - val_loss: 6408.3530\n",
            "Epoch 78/100\n",
            "98/98 [==============================] - 1s 7ms/step - loss: 6494.0068 - val_loss: 6408.3530\n",
            "Epoch 79/100\n",
            "98/98 [==============================] - 1s 8ms/step - loss: 6494.0054 - val_loss: 6408.3530\n",
            "Epoch 80/100\n",
            "98/98 [==============================] - 1s 7ms/step - loss: 6494.0063 - val_loss: 6408.3530\n",
            "Epoch 81/100\n",
            "98/98 [==============================] - 1s 7ms/step - loss: 6494.0059 - val_loss: 6408.3530\n",
            "Epoch 82/100\n",
            "98/98 [==============================] - 1s 7ms/step - loss: 6494.0059 - val_loss: 6408.3530\n",
            "Epoch 83/100\n",
            "98/98 [==============================] - 1s 7ms/step - loss: 6494.0059 - val_loss: 6408.3530\n",
            "Epoch 84/100\n",
            "98/98 [==============================] - 1s 7ms/step - loss: 6494.0063 - val_loss: 6408.3530\n",
            "Epoch 85/100\n",
            "98/98 [==============================] - 1s 8ms/step - loss: 6494.0059 - val_loss: 6408.3530\n",
            "Epoch 86/100\n",
            "98/98 [==============================] - 1s 10ms/step - loss: 6494.0063 - val_loss: 6408.3530\n",
            "Epoch 87/100\n",
            "98/98 [==============================] - 1s 10ms/step - loss: 6494.0049 - val_loss: 6408.3530\n",
            "Epoch 88/100\n",
            "98/98 [==============================] - 1s 9ms/step - loss: 6494.0054 - val_loss: 6408.3530\n",
            "Epoch 89/100\n",
            "98/98 [==============================] - 1s 7ms/step - loss: 6494.0049 - val_loss: 6408.3530\n",
            "Epoch 90/100\n",
            "98/98 [==============================] - 1s 7ms/step - loss: 6494.0063 - val_loss: 6408.3530\n",
            "Epoch 91/100\n",
            "98/98 [==============================] - 1s 8ms/step - loss: 6494.0054 - val_loss: 6408.3530\n",
            "Epoch 92/100\n",
            "98/98 [==============================] - 1s 12ms/step - loss: 6494.0068 - val_loss: 6408.3530\n",
            "Epoch 93/100\n",
            "98/98 [==============================] - 1s 11ms/step - loss: 6494.0039 - val_loss: 6408.3530\n",
            "Epoch 94/100\n",
            "98/98 [==============================] - 1s 10ms/step - loss: 6494.0059 - val_loss: 6408.3530\n",
            "Epoch 95/100\n",
            "98/98 [==============================] - 1s 8ms/step - loss: 6494.0059 - val_loss: 6408.3530\n",
            "Epoch 96/100\n",
            "98/98 [==============================] - 1s 7ms/step - loss: 6494.0059 - val_loss: 6408.3530\n",
            "Epoch 97/100\n",
            "98/98 [==============================] - 1s 7ms/step - loss: 6494.0063 - val_loss: 6408.3530\n",
            "Epoch 98/100\n",
            "98/98 [==============================] - 1s 7ms/step - loss: 6494.0044 - val_loss: 6408.3530\n",
            "Epoch 99/100\n",
            "98/98 [==============================] - 1s 7ms/step - loss: 6494.0054 - val_loss: 6408.3530\n",
            "Epoch 100/100\n",
            "98/98 [==============================] - 1s 9ms/step - loss: 6494.0063 - val_loss: 6408.3530\n"
          ]
        }
      ]
    },
    {
      "cell_type": "code",
      "source": [
        "import pickle"
      ],
      "metadata": {
        "id": "9LLaM5K5LatR"
      },
      "execution_count": null,
      "outputs": []
    },
    {
      "cell_type": "code",
      "source": [
        "pickle.dump(model1,open(\"LSTM.pkl\",\"wb\"))"
      ],
      "metadata": {
        "colab": {
          "base_uri": "https://localhost:8080/"
        },
        "id": "-5zDewq1Lama",
        "outputId": "19965150-79e6-48f9-d244-13f867caf215"
      },
      "execution_count": null,
      "outputs": [
        {
          "output_type": "stream",
          "name": "stdout",
          "text": [
            "Keras weights file (<HDF5 file \"variables.h5\" (mode r+)>) saving:\n",
            "...layers\n",
            "......dense\n",
            ".........vars\n",
            "............0\n",
            "............1\n",
            "......dense_1\n",
            ".........vars\n",
            "............0\n",
            "............1\n",
            "......dense_2\n",
            ".........vars\n",
            "............0\n",
            "............1\n",
            "......dense_3\n",
            ".........vars\n",
            "............0\n",
            "............1\n",
            "......lstm\n",
            ".........cell\n",
            "............vars\n",
            "...............0\n",
            "...............1\n",
            "...............2\n",
            ".........vars\n",
            "......lstm_1\n",
            ".........cell\n",
            "............vars\n",
            "...............0\n",
            "...............1\n",
            "...............2\n",
            ".........vars\n",
            "...metrics\n",
            "......mean\n",
            ".........vars\n",
            "............0\n",
            "............1\n",
            "...optimizer\n",
            "......vars\n",
            ".........0\n",
            ".........1\n",
            ".........10\n",
            ".........11\n",
            ".........12\n",
            ".........13\n",
            ".........14\n",
            ".........15\n",
            ".........16\n",
            ".........17\n",
            ".........18\n",
            ".........19\n",
            ".........2\n",
            ".........20\n",
            ".........21\n",
            ".........22\n",
            ".........23\n",
            ".........24\n",
            ".........25\n",
            ".........26\n",
            ".........27\n",
            ".........28\n",
            ".........3\n",
            ".........4\n",
            ".........5\n",
            ".........6\n",
            ".........7\n",
            ".........8\n",
            ".........9\n",
            "...vars\n",
            "Keras model archive saving:\n",
            "File Name                                             Modified             Size\n",
            "variables.h5                                   2023-03-04 05:59:33      9707312\n",
            "metadata.json                                  2023-03-04 05:59:33           64\n",
            "config.json                                    2023-03-04 05:59:33         3906\n"
          ]
        }
      ]
    }
  ]
}